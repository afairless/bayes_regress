{
 "cells": [
  {
   "cell_type": "markdown",
   "metadata": {},
   "source": [
    "# Understanding Basics of Bayesian Linear Regression"
   ]
  },
  {
   "cell_type": "markdown",
   "metadata": {},
   "source": [
    "Another data scientist was studying Bayesian statistics and recently complained to me that everyone always uses the same simple coin-flipping examples to illustrate Bayesian concepts.  How does it work in something more complicated like linear regression?  To answer his question, I decided to radically simplify the Bayesian linear regression problem so that someone can (hopefully) easily follow the arithmetic."
   ]
  },
  {
   "cell_type": "markdown",
   "metadata": {},
   "source": [
    "Let's first look at Bayes's rule:"
   ]
  },
  {
   "cell_type": "markdown",
   "metadata": {},
   "source": [
    "$$P(A \\mid B) = \\frac{P(B \\mid A) \\, P(A)}{P(B)}$$"
   ]
  },
  {
   "cell_type": "markdown",
   "metadata": {},
   "source": [
    "In words, we might say:"
   ]
  },
  {
   "cell_type": "markdown",
   "metadata": {},
   "source": [
    "$$posterior = \\frac{likelihood \\ x \\ prior}{scaling \\ factor}$$"
   ]
  },
  {
   "cell_type": "markdown",
   "metadata": {},
   "source": [
    "Or, in more words, the posterior distribution is proportional to the product of the likelihood function and the prior distribution.  Then to make that product into a probability distribution, we divide it by a scaling factor (which is the likelihood averaged over the prior) so that all the probabilities sum to 1."
   ]
  },
  {
   "cell_type": "markdown",
   "metadata": {},
   "source": [
    "In simple linear regression, we have a predictor variable $x$ that will predict the response variable $y$.  We will model the relationship between $x$ and $y$ as a line.  And our predictions won't be exact, so we need to account for how much error our predictions have, that is, how much the actual data points deviate from our model line.  As an equation:"
   ]
  },
  {
   "cell_type": "markdown",
   "metadata": {},
   "source": [
    "$$y_i = \\beta_0 + \\beta_1 x_i + \\epsilon_i$$"
   ]
  },
  {
   "cell_type": "markdown",
   "metadata": {},
   "source": [
    "where $i$ specifies which data point we're talking about ($i = 1, 2, 3... n$, where $n$ is the number of data points)."
   ]
  },
  {
   "cell_type": "markdown",
   "metadata": {},
   "source": [
    "Our task in the linear regression problem is to find values of the coefficients $\\beta_0$ and $\\beta_1$ that minimize the error $\\epsilon$ -- so that the line lies as close to all the actual data points as possible.  The coefficient $\\beta_0$ specifies the $y$-axis intercept for the line, and the coefficient $\\beta_1$ specifies the slope of the line."
   ]
  },
  {
   "cell_type": "markdown",
   "metadata": {},
   "source": [
    "In Bayesian linear regression, we're going to put priors on each of the coefficients -- one prior for $\\beta_0$ and one for $\\beta_1$.  Then we'll calculate the corresponding likelihoods for the actual data points that we observe, given the values of our parameters.  Then we'll follow Bayes's rule by multiplying the priors and likelihood and dividing that product by the scaling factor."
   ]
  },
  {
   "cell_type": "markdown",
   "metadata": {},
   "source": [
    "We're going to drastically simplify the problem in two ways:\n",
    "\n",
    "1. We're going to assume the coefficients' distributions are discrete, not continuous.  Instead of being able to assume any value (e.g., 1, 1.333333, 3.14159, 8.99999999), the coefficients can assume only values at fixed intervals (e.g., 0, 0.5, 1, 1.5, 2, 2.5, 3...).  This will make our scaling factor much easier to calculate.  With continuous distributions, we would usually have to calculate an integral or do some fancy sampling, which makes things much more complicated and difficult to understand.  But with the discrete distribution, we can just do some simple arithmetic.\n",
    "\n",
    "2. We're going to restrict the range that our coefficients can assume.  That way, we'll have just a few numbers to keep track of, instead of hundreds or thousands.  That'll make the math much easier to follow for our little brains."
   ]
  },
  {
   "cell_type": "markdown",
   "metadata": {},
   "source": [
    "### Helpful functions"
   ]
  },
  {
   "cell_type": "markdown",
   "metadata": {},
   "source": [
    "Before we get started, we'll need some functions.  This first one will basically \"do\" our linear regression:  it'll predict our response variable $y$ based on our predictor variable $x$ and our parameters, the coefficients $\\beta_0$ and $\\beta_1$."
   ]
  },
  {
   "cell_type": "code",
   "execution_count": 55,
   "metadata": {
    "collapsed": true
   },
   "outputs": [],
   "source": [
    "def predict_y(xs, parameters):\n",
    "    '''\n",
    "    Returns dot product of 'xs' and 'parameters' where 'xs' is the predictor\n",
    "        variables matrix and 'parameters' are the coefficients for linear\n",
    "        regression\n",
    "    xs - n x p numpy array where 'n' is number of cases and 'p' is number of\n",
    "        parameters\n",
    "    parameters - p x m numpy array where 'p' is number of parameters and 'm'\n",
    "        is the number of sets of parameters\n",
    "    If the first column of 'xs' is not a column of ones for the regression\n",
    "        intercept, the function adds that column\n",
    "    '''\n",
    "    import numpy as np\n",
    "    ones = np.ones(len(xs))\n",
    "    if not np.allclose(xs[:, 0], ones):\n",
    "        xs = np.concatenate((ones.reshape(-1, 1), xs), axis=1)\n",
    "    #if not xs.shape[1] != len(parameters):\n",
    "    #    parameters = parameters.T\n",
    "    predicted_y = np.dot(xs, parameters)\n",
    "    return(predicted_y)"
   ]
  },
  {
   "cell_type": "markdown",
   "metadata": {},
   "source": [
    "This second function will calculate the likelihood for our linear regression model based on the predicted response variable $y$ and the actual, observed data points for $y$."
   ]
  },
  {
   "cell_type": "code",
   "execution_count": 56,
   "metadata": {
    "collapsed": true
   },
   "outputs": [],
   "source": [
    "def get_regress_likelihood(actual_y, predicted_y):\n",
    "    '''\n",
    "    Returns likelihood of a linear regression model given the response variable\n",
    "        ('actual_y') and the model's predictions of the response variable\n",
    "        ('predicted_y')\n",
    "    'actual_y' and 'predicted_y' are numpy arrays of equal length\n",
    "    '''\n",
    "    if len(actual_y) != len(predicted_y):\n",
    "        return('Response variable and predicted response variable must be same \\\n",
    "               length')\n",
    "    import numpy as np\n",
    "    n = len(actual_y)\n",
    "    error = actual_y - predicted_y\n",
    "    s = np.std(error)\n",
    "    likelihood = ( ( (1 / (2 * np.pi * s**2))**(n/2) ) *\n",
    "                  np.exp(-1 * (np.dot(error.T, error) / (2 * s**2))) )\n",
    "    return(likelihood)"
   ]
  },
  {
   "cell_type": "markdown",
   "metadata": {},
   "source": [
    "Let's play with some data!"
   ]
  },
  {
   "cell_type": "markdown",
   "metadata": {},
   "source": [
    "### Helpful packages"
   ]
  },
  {
   "cell_type": "markdown",
   "metadata": {},
   "source": [
    "We'll need some Python packages:"
   ]
  },
  {
   "cell_type": "code",
   "execution_count": 57,
   "metadata": {},
   "outputs": [],
   "source": [
    "import numpy as np\n",
    "import pandas as pd\n",
    "import matplotlib.pyplot as plt\n",
    "import seaborn as sns\n",
    "from mpl_toolkits.mplot3d import Axes3D\n",
    "import pystan"
   ]
  },
  {
   "cell_type": "markdown",
   "metadata": {},
   "source": [
    "### Generate data"
   ]
  },
  {
   "cell_type": "markdown",
   "metadata": {},
   "source": [
    "First, we're going to create some data that we can fit a regression model to.  To further simplify the problem, we're going to set the $y$-intercept $\\beta_0$ to zero both here during data generation and later when we fit the model.  That way, we'll calculate Bayes's rule for only one parameter $\\beta_1$."
   ]
  },
  {
   "cell_type": "code",
   "execution_count": 58,
   "metadata": {
    "collapsed": true
   },
   "outputs": [],
   "source": [
    "n = 5                            # number of data points\n",
    "x = np.arange(n) + 1             # predictor variable\n",
    "b0 = 0                           # beta 0, y-intercept\n",
    "b1 = 1.5                         # beta 1, slope\n",
    "np.random.seed(38502115)\n",
    "eps = 0.7 * np.random.randn(n)   # epsilon, error term\n",
    "y = b0 + b1*x + eps              # response variable"
   ]
  },
  {
   "cell_type": "markdown",
   "metadata": {},
   "source": [
    "Here's the data we generated:"
   ]
  },
  {
   "cell_type": "code",
   "execution_count": 59,
   "metadata": {},
   "outputs": [
    {
     "data": {
      "text/html": [
       "<div>\n",
       "<style>\n",
       "    .dataframe thead tr:only-child th {\n",
       "        text-align: right;\n",
       "    }\n",
       "\n",
       "    .dataframe thead th {\n",
       "        text-align: left;\n",
       "    }\n",
       "\n",
       "    .dataframe tbody tr th {\n",
       "        vertical-align: top;\n",
       "    }\n",
       "</style>\n",
       "<table border=\"1\" class=\"dataframe\">\n",
       "  <thead>\n",
       "    <tr style=\"text-align: right;\">\n",
       "      <th></th>\n",
       "      <th>x</th>\n",
       "      <th>y</th>\n",
       "    </tr>\n",
       "  </thead>\n",
       "  <tbody>\n",
       "    <tr>\n",
       "      <th>0</th>\n",
       "      <td>1</td>\n",
       "      <td>1.609501</td>\n",
       "    </tr>\n",
       "    <tr>\n",
       "      <th>1</th>\n",
       "      <td>2</td>\n",
       "      <td>3.118044</td>\n",
       "    </tr>\n",
       "    <tr>\n",
       "      <th>2</th>\n",
       "      <td>3</td>\n",
       "      <td>5.491070</td>\n",
       "    </tr>\n",
       "    <tr>\n",
       "      <th>3</th>\n",
       "      <td>4</td>\n",
       "      <td>6.734883</td>\n",
       "    </tr>\n",
       "    <tr>\n",
       "      <th>4</th>\n",
       "      <td>5</td>\n",
       "      <td>6.313860</td>\n",
       "    </tr>\n",
       "  </tbody>\n",
       "</table>\n",
       "</div>"
      ],
      "text/plain": [
       "   x         y\n",
       "0  1  1.609501\n",
       "1  2  3.118044\n",
       "2  3  5.491070\n",
       "3  4  6.734883\n",
       "4  5  6.313860"
      ]
     },
     "execution_count": 59,
     "metadata": {},
     "output_type": "execute_result"
    }
   ],
   "source": [
    "data_1 = pd.DataFrame({'x': x, 'y': y})\n",
    "data_1"
   ]
  },
  {
   "cell_type": "code",
   "execution_count": 60,
   "metadata": {},
   "outputs": [
    {
     "data": {
      "image/png": "[encoded data removed]",
      "text/plain": [
       "<matplotlib.figure.Figure at 0x7f7a84263c50>"
      ]
     },
     "execution_count": 60,
     "metadata": {},
     "output_type": "execute_result"
    }
   ],
   "source": [
    "data1_plot = sns.lmplot(x='x', y='y', data=data_1, fit_reg=False)\n",
    "axes = data1_plot.axes\n",
    "axes[0, 0].set_xlim(0, )\n",
    "axes[0, 0].set_ylim(0, )\n",
    "data1_plot.fig"
   ]
  },
  {
   "cell_type": "markdown",
   "metadata": {},
   "source": [
    "## Part I.  Discrete distribution, 1 parameter"
   ]
  },
  {
   "cell_type": "markdown",
   "metadata": {},
   "source": [
    "### I) A. Set the prior"
   ]
  },
  {
   "cell_type": "markdown",
   "metadata": {},
   "source": [
    "Now that we've created our data set, we can start our modeling process.  The first step is to choose a prior for the coefficient $\\beta_1$.  You'll recall that we're going to restrict the prior to only a few possible, discrete values in order to simplify the regression problem.  Let's set the possible values that $\\beta_1$ can assume:"
   ]
  },
  {
   "cell_type": "code",
   "execution_count": 61,
   "metadata": {},
   "outputs": [
    {
     "data": {
      "text/plain": [
       "array([ 1.  ,  1.25,  1.5 ,  1.75,  2.  ])"
      ]
     },
     "execution_count": 61,
     "metadata": {},
     "output_type": "execute_result"
    }
   ],
   "source": [
    "b1_n = 5                           # number of values that beta 1 can assume\n",
    "b1_lower_bound = np.floor(b1)      # lower bound for beta 1\n",
    "b1_upper_bound = np.ceil(b1)       # upper bound for beta 1\n",
    "b1_possible_values = np.linspace(b1_lower_bound, b1_upper_bound, num=b1_n)\n",
    "b1_possible_values"
   ]
  },
  {
   "cell_type": "markdown",
   "metadata": {},
   "source": [
    "Now we need to set the prior probabilities that each of these values can occur.  We're simply going to set a flat prior so that all the possible values of $\\beta_1$ have an equal probability:"
   ]
  },
  {
   "cell_type": "code",
   "execution_count": 62,
   "metadata": {},
   "outputs": [
    {
     "data": {
      "text/plain": [
       "array([ 0.2,  0.2,  0.2,  0.2,  0.2])"
      ]
     },
     "execution_count": 62,
     "metadata": {},
     "output_type": "execute_result"
    }
   ],
   "source": [
    "b1_prior = np.full(b1_n, 1/b1_n)\n",
    "b1_prior"
   ]
  },
  {
   "cell_type": "markdown",
   "metadata": {},
   "source": [
    "Our flat prior is plotted below:"
   ]
  },
  {
   "cell_type": "code",
   "execution_count": 69,
   "metadata": {},
   "outputs": [
    {
     "data": {
      "image/png": "[encoded data removed]",
      "text/plain": [
       "<matplotlib.figure.Figure at 0x7f7a841fd668>"
      ]
     },
     "execution_count": 69,
     "metadata": {},
     "output_type": "execute_result"
    }
   ],
   "source": [
    "b1_prior_plot = sns.lmplot(x='b1_possible_values',\n",
    "                           y='b1_prior',\n",
    "                           data=b1_data,\n",
    "                           fit_reg=False)\n",
    "b1_prior_plot.fig"
   ]
  },
  {
   "cell_type": "markdown",
   "metadata": {},
   "source": [
    "### I) B. Calculate the likelihood"
   ]
  },
  {
   "cell_type": "markdown",
   "metadata": {},
   "source": [
    "Now that we've set the prior, we need to calculate the likelihood of the data given our model at all possible values of the parameter $\\beta_1$."
   ]
  },
  {
   "cell_type": "markdown",
   "metadata": {},
   "source": [
    "Let's set up our matrix of parameters.  Remember that we've set the $y$-intercept coefficient $\\beta_0$ to zero for both generating the data and for modeling it, so it shows up as a row of zeroes.  The other row comprises all our possible values for $\\beta_1$."
   ]
  },
  {
   "cell_type": "code",
   "execution_count": 63,
   "metadata": {},
   "outputs": [
    {
     "data": {
      "text/plain": [
       "array([[ 0.  ,  0.  ,  0.  ,  0.  ,  0.  ],\n",
       "       [ 1.  ,  1.25,  1.5 ,  1.75,  2.  ]])"
      ]
     },
     "execution_count": 63,
     "metadata": {},
     "output_type": "execute_result"
    }
   ],
   "source": [
    "parameters = np.array([np.zeros(b1_n), b1_possible_values])\n",
    "parameters"
   ]
  },
  {
   "cell_type": "markdown",
   "metadata": {},
   "source": [
    "Now we predict our response variable $y$ based on the predictor variable $x$ and our parameters:"
   ]
  },
  {
   "cell_type": "code",
   "execution_count": 64,
   "metadata": {},
   "outputs": [
    {
     "data": {
      "text/html": [
       "<div>\n",
       "<style>\n",
       "    .dataframe thead tr:only-child th {\n",
       "        text-align: right;\n",
       "    }\n",
       "\n",
       "    .dataframe thead th {\n",
       "        text-align: left;\n",
       "    }\n",
       "\n",
       "    .dataframe tbody tr th {\n",
       "        vertical-align: top;\n",
       "    }\n",
       "</style>\n",
       "<table border=\"1\" class=\"dataframe\">\n",
       "  <thead>\n",
       "    <tr style=\"text-align: right;\">\n",
       "      <th></th>\n",
       "      <th>b1=1.0</th>\n",
       "      <th>b1=1.25</th>\n",
       "      <th>b1=1.5</th>\n",
       "      <th>b1=1.75</th>\n",
       "      <th>b1=2.0</th>\n",
       "    </tr>\n",
       "  </thead>\n",
       "  <tbody>\n",
       "    <tr>\n",
       "      <th>x=1</th>\n",
       "      <td>1.0</td>\n",
       "      <td>1.25</td>\n",
       "      <td>1.5</td>\n",
       "      <td>1.75</td>\n",
       "      <td>2.0</td>\n",
       "    </tr>\n",
       "    <tr>\n",
       "      <th>x=2</th>\n",
       "      <td>2.0</td>\n",
       "      <td>2.50</td>\n",
       "      <td>3.0</td>\n",
       "      <td>3.50</td>\n",
       "      <td>4.0</td>\n",
       "    </tr>\n",
       "    <tr>\n",
       "      <th>x=3</th>\n",
       "      <td>3.0</td>\n",
       "      <td>3.75</td>\n",
       "      <td>4.5</td>\n",
       "      <td>5.25</td>\n",
       "      <td>6.0</td>\n",
       "    </tr>\n",
       "    <tr>\n",
       "      <th>x=4</th>\n",
       "      <td>4.0</td>\n",
       "      <td>5.00</td>\n",
       "      <td>6.0</td>\n",
       "      <td>7.00</td>\n",
       "      <td>8.0</td>\n",
       "    </tr>\n",
       "    <tr>\n",
       "      <th>x=5</th>\n",
       "      <td>5.0</td>\n",
       "      <td>6.25</td>\n",
       "      <td>7.5</td>\n",
       "      <td>8.75</td>\n",
       "      <td>10.0</td>\n",
       "    </tr>\n",
       "  </tbody>\n",
       "</table>\n",
       "</div>"
      ],
      "text/plain": [
       "     b1=1.0  b1=1.25  b1=1.5  b1=1.75  b1=2.0\n",
       "x=1     1.0     1.25     1.5     1.75     2.0\n",
       "x=2     2.0     2.50     3.0     3.50     4.0\n",
       "x=3     3.0     3.75     4.5     5.25     6.0\n",
       "x=4     4.0     5.00     6.0     7.00     8.0\n",
       "x=5     5.0     6.25     7.5     8.75    10.0"
      ]
     },
     "execution_count": 64,
     "metadata": {},
     "output_type": "execute_result"
    }
   ],
   "source": [
    "predicted_y = predict_y(x.reshape(-1, 1), parameters)\n",
    "\n",
    "parameter_names = ['b1=' + str(parameters[1, i])\n",
    "                   for i in range(parameters.shape[1])]\n",
    "x_names = ['x=' + str(x[i]) for i in range(len(x))]\n",
    "predicted_y_df = pd.DataFrame(predicted_y,\n",
    "                              index=x_names,\n",
    "                              columns=parameter_names)\n",
    "predicted_y_df"
   ]
  },
  {
   "cell_type": "markdown",
   "metadata": {},
   "source": [
    "Just to be sure it's clear, the first column in the table above says that if the coefficient $\\beta_1$ equals $1$, then the response variable $y$ will be $1$ where $x = 1$.  It'll be $2$ where $x = 2$, $3$ where $x = 3$, and so on.  The corresponding predictions for the other possible values of $\\beta_1$ are in the remaining columns of the table."
   ]
  },
  {
   "cell_type": "markdown",
   "metadata": {},
   "source": [
    "Now we can use our predicted values of $y$ in the table above to calculate the likelihoods of the actual $y$ that we observed for each of the possible values of $\\beta_1$:"
   ]
  },
  {
   "cell_type": "code",
   "execution_count": 65,
   "metadata": {},
   "outputs": [
    {
     "data": {
      "text/plain": [
       "array([  8.63109035e-08,   7.79737936e-05,   3.08239565e-03,\n",
       "         4.08595504e-04,   1.44545600e-05])"
      ]
     },
     "execution_count": 65,
     "metadata": {},
     "output_type": "execute_result"
    }
   ],
   "source": [
    "likelihood = np.array([get_regress_likelihood(y, predicted_y[:, i])\n",
    "                       for i in range(predicted_y.shape[1])])\n",
    "likelihood"
   ]
  },
  {
   "cell_type": "markdown",
   "metadata": {},
   "source": [
    "The likelihood function peaks at $1.5$, which we would expect because -- unknown to the model -- that's the value of $\\beta_1$ that we used to generate the data.  The likelihoods are plotted below:"
   ]
  },
  {
   "cell_type": "code",
   "execution_count": 142,
   "metadata": {},
   "outputs": [
    {
     "name": "stderr",
     "output_type": "stream",
     "text": [
      "/home/zh/anaconda3/envs/jupyter_plot_stan/lib/python3.6/site-packages/matplotlib/pyplot.py:524: RuntimeWarning: More than 20 figures have been opened. Figures created through the pyplot interface (`matplotlib.pyplot.figure`) are retained until explicitly closed and may consume too much memory. (To control this warning, see the rcParam `figure.max_open_warning`).\n",
      "  max_open_warning, RuntimeWarning)\n"
     ]
    },
    {
     "data": {
      "image/png": "[encoded data removed]",
      "text/plain": [
       "<matplotlib.figure.Figure at 0x7f7a6cd61828>"
      ]
     },
     "execution_count": 142,
     "metadata": {},
     "output_type": "execute_result"
    }
   ],
   "source": [
    "b1_likelihood_plot = sns.lmplot(x='b1_possible_values',\n",
    "                                y='likelihood',\n",
    "                                data=b1_data,\n",
    "                                fit_reg=False)\n",
    "b1_likelihood_plot.fig"
   ]
  },
  {
   "cell_type": "markdown",
   "metadata": {},
   "source": [
    "### I) C. Calculate the posterior with Bayes's rule"
   ]
  },
  {
   "cell_type": "markdown",
   "metadata": {},
   "source": [
    "Now that we've determined the prior distribution and the likelihood function, we can use Bayes's rule to calculate the posterior distribution."
   ]
  },
  {
   "cell_type": "markdown",
   "metadata": {},
   "source": [
    "Notice below that our scaling factor is simply the sum of the prior-likelihood products for each of our possible values of $\\beta_1$.  This is the place where, if we were using a continuous distribution to model $\\beta_1$, we would have to calculate an integral.  But because we simplified the problem by using a discrete distribution, we can just use arithmetic, which is much easier than calculus!"
   ]
  },
  {
   "cell_type": "code",
   "execution_count": 66,
   "metadata": {},
   "outputs": [
    {
     "data": {
      "text/plain": [
       "array([  2.40856044e-05,   2.17590811e-02,   8.60162033e-01,\n",
       "         1.14021164e-01,   4.03363654e-03])"
      ]
     },
     "execution_count": 66,
     "metadata": {},
     "output_type": "execute_result"
    }
   ],
   "source": [
    "b1_posterior_unscaled = b1_prior * likelihood\n",
    "b1_posterior = b1_posterior_unscaled / np.sum(b1_posterior_unscaled)\n",
    "b1_posterior"
   ]
  },
  {
   "cell_type": "markdown",
   "metadata": {},
   "source": [
    "Since we used a flat prior, the posterior distribution below has the same shape as the likelihood function that we plotted above -- only the scales are different.  Clearly, the value of $1.5$ is the most probable value for $\\beta_1$:"
   ]
  },
  {
   "cell_type": "code",
   "execution_count": 71,
   "metadata": {},
   "outputs": [
    {
     "data": {
      "image/png": "[encoded data removed]",
      "text/plain": [
       "<matplotlib.figure.Figure at 0x7f7a84112128>"
      ]
     },
     "execution_count": 71,
     "metadata": {},
     "output_type": "execute_result"
    }
   ],
   "source": [
    "b1_posterior_plot = sns.lmplot(x='b1_possible_values',\n",
    "                               y='b1_posterior',\n",
    "                               data=b1_data,\n",
    "                               fit_reg=False)\n",
    "b1_posterior_plot.fig"
   ]
  },
  {
   "cell_type": "markdown",
   "metadata": {},
   "source": [
    "If we calculated our scaling factor correctly, then all the probabilities of the posterior distribution should add up to $1$.  And they do:"
   ]
  },
  {
   "cell_type": "code",
   "execution_count": 67,
   "metadata": {},
   "outputs": [
    {
     "data": {
      "text/plain": [
       "1.0000000000000002"
      ]
     },
     "execution_count": 67,
     "metadata": {},
     "output_type": "execute_result"
    }
   ],
   "source": [
    "sum(b1_posterior)"
   ]
  },
  {
   "cell_type": "markdown",
   "metadata": {},
   "source": [
    "### I) D. Plot regression line"
   ]
  },
  {
   "cell_type": "markdown",
   "metadata": {},
   "source": [
    "Below is the plot of our data and the single most probable regression line, based on our posterior distribution where $\\beta_0 = 0$ and $\\beta_1 = 1.5$:"
   ]
  },
  {
   "cell_type": "code",
   "execution_count": 132,
   "metadata": {
    "scrolled": false
   },
   "outputs": [
    {
     "name": "stderr",
     "output_type": "stream",
     "text": [
      "/home/zh/anaconda3/envs/jupyter_plot_stan/lib/python3.6/site-packages/matplotlib/pyplot.py:524: RuntimeWarning: More than 20 figures have been opened. Figures created through the pyplot interface (`matplotlib.pyplot.figure`) are retained until explicitly closed and may consume too much memory. (To control this warning, see the rcParam `figure.max_open_warning`).\n",
      "  max_open_warning, RuntimeWarning)\n"
     ]
    },
    {
     "data": {
      "image/png": "[encoded data removed]",
      "text/plain": [
       "<matplotlib.figure.Figure at 0x7f7a70665fd0>"
      ]
     },
     "execution_count": 132,
     "metadata": {},
     "output_type": "execute_result"
    }
   ],
   "source": [
    "model_b0 = 0\n",
    "model_b1 = 1.5\n",
    "\n",
    "grid = sns.JointGrid(data_1['x'], data_1['y'])\n",
    "grid.plot_joint(plt.scatter)\n",
    "grid.ax_joint.plot([0, max(x)], [model_b0, max(x)*model_b1], 'r-', linewidth=2)\n",
    "grid.fig"
   ]
  },
  {
   "cell_type": "markdown",
   "metadata": {},
   "source": [
    "### I) E. Summarize"
   ]
  },
  {
   "cell_type": "markdown",
   "metadata": {},
   "source": [
    "Let's summarize how we calculated the posterior distribution."
   ]
  },
  {
   "cell_type": "code",
   "execution_count": 68,
   "metadata": {},
   "outputs": [
    {
     "data": {
      "text/html": [
       "<style  type=\"text/css\" >\n",
       "</style>  \n",
       "<table id=\"T_4b9caa02_4339_11e8_9209_ac2b6e7b38c9\" > \n",
       "<thead>    <tr> \n",
       "        <th class=\"blank level0\" ></th> \n",
       "        <th class=\"col_heading level0 col0\" >b1_possible_values</th> \n",
       "        <th class=\"col_heading level0 col1\" >b1_prior</th> \n",
       "        <th class=\"col_heading level0 col2\" >likelihood</th> \n",
       "        <th class=\"col_heading level0 col3\" >b1_posterior_unscaled</th> \n",
       "        <th class=\"col_heading level0 col4\" >b1_posterior</th> \n",
       "    </tr></thead> \n",
       "<tbody>    <tr> \n",
       "        <th id=\"T_4b9caa02_4339_11e8_9209_ac2b6e7b38c9level0_row0\" class=\"row_heading level0 row0\" >0</th> \n",
       "        <td id=\"T_4b9caa02_4339_11e8_9209_ac2b6e7b38c9row0_col0\" class=\"data row0 col0\" >1</td> \n",
       "        <td id=\"T_4b9caa02_4339_11e8_9209_ac2b6e7b38c9row0_col1\" class=\"data row0 col1\" >0.2</td> \n",
       "        <td id=\"T_4b9caa02_4339_11e8_9209_ac2b6e7b38c9row0_col2\" class=\"data row0 col2\" >8.63e-08</td> \n",
       "        <td id=\"T_4b9caa02_4339_11e8_9209_ac2b6e7b38c9row0_col3\" class=\"data row0 col3\" >1.73e-08</td> \n",
       "        <td id=\"T_4b9caa02_4339_11e8_9209_ac2b6e7b38c9row0_col4\" class=\"data row0 col4\" >2.41e-05</td> \n",
       "    </tr>    <tr> \n",
       "        <th id=\"T_4b9caa02_4339_11e8_9209_ac2b6e7b38c9level0_row1\" class=\"row_heading level0 row1\" >1</th> \n",
       "        <td id=\"T_4b9caa02_4339_11e8_9209_ac2b6e7b38c9row1_col0\" class=\"data row1 col0\" >1.25</td> \n",
       "        <td id=\"T_4b9caa02_4339_11e8_9209_ac2b6e7b38c9row1_col1\" class=\"data row1 col1\" >0.2</td> \n",
       "        <td id=\"T_4b9caa02_4339_11e8_9209_ac2b6e7b38c9row1_col2\" class=\"data row1 col2\" >7.8e-05</td> \n",
       "        <td id=\"T_4b9caa02_4339_11e8_9209_ac2b6e7b38c9row1_col3\" class=\"data row1 col3\" >1.56e-05</td> \n",
       "        <td id=\"T_4b9caa02_4339_11e8_9209_ac2b6e7b38c9row1_col4\" class=\"data row1 col4\" >0.0218</td> \n",
       "    </tr>    <tr> \n",
       "        <th id=\"T_4b9caa02_4339_11e8_9209_ac2b6e7b38c9level0_row2\" class=\"row_heading level0 row2\" >2</th> \n",
       "        <td id=\"T_4b9caa02_4339_11e8_9209_ac2b6e7b38c9row2_col0\" class=\"data row2 col0\" >1.5</td> \n",
       "        <td id=\"T_4b9caa02_4339_11e8_9209_ac2b6e7b38c9row2_col1\" class=\"data row2 col1\" >0.2</td> \n",
       "        <td id=\"T_4b9caa02_4339_11e8_9209_ac2b6e7b38c9row2_col2\" class=\"data row2 col2\" >0.00308</td> \n",
       "        <td id=\"T_4b9caa02_4339_11e8_9209_ac2b6e7b38c9row2_col3\" class=\"data row2 col3\" >0.000616</td> \n",
       "        <td id=\"T_4b9caa02_4339_11e8_9209_ac2b6e7b38c9row2_col4\" class=\"data row2 col4\" >0.86</td> \n",
       "    </tr>    <tr> \n",
       "        <th id=\"T_4b9caa02_4339_11e8_9209_ac2b6e7b38c9level0_row3\" class=\"row_heading level0 row3\" >3</th> \n",
       "        <td id=\"T_4b9caa02_4339_11e8_9209_ac2b6e7b38c9row3_col0\" class=\"data row3 col0\" >1.75</td> \n",
       "        <td id=\"T_4b9caa02_4339_11e8_9209_ac2b6e7b38c9row3_col1\" class=\"data row3 col1\" >0.2</td> \n",
       "        <td id=\"T_4b9caa02_4339_11e8_9209_ac2b6e7b38c9row3_col2\" class=\"data row3 col2\" >0.000409</td> \n",
       "        <td id=\"T_4b9caa02_4339_11e8_9209_ac2b6e7b38c9row3_col3\" class=\"data row3 col3\" >8.17e-05</td> \n",
       "        <td id=\"T_4b9caa02_4339_11e8_9209_ac2b6e7b38c9row3_col4\" class=\"data row3 col4\" >0.114</td> \n",
       "    </tr>    <tr> \n",
       "        <th id=\"T_4b9caa02_4339_11e8_9209_ac2b6e7b38c9level0_row4\" class=\"row_heading level0 row4\" >4</th> \n",
       "        <td id=\"T_4b9caa02_4339_11e8_9209_ac2b6e7b38c9row4_col0\" class=\"data row4 col0\" >2</td> \n",
       "        <td id=\"T_4b9caa02_4339_11e8_9209_ac2b6e7b38c9row4_col1\" class=\"data row4 col1\" >0.2</td> \n",
       "        <td id=\"T_4b9caa02_4339_11e8_9209_ac2b6e7b38c9row4_col2\" class=\"data row4 col2\" >1.45e-05</td> \n",
       "        <td id=\"T_4b9caa02_4339_11e8_9209_ac2b6e7b38c9row4_col3\" class=\"data row4 col3\" >2.89e-06</td> \n",
       "        <td id=\"T_4b9caa02_4339_11e8_9209_ac2b6e7b38c9row4_col4\" class=\"data row4 col4\" >0.00403</td> \n",
       "    </tr></tbody> \n",
       "</table> "
      ],
      "text/plain": [
       "<pandas.io.formats.style.Styler at 0x7f7a842632b0>"
      ]
     },
     "execution_count": 68,
     "metadata": {},
     "output_type": "execute_result"
    }
   ],
   "source": [
    "b1_data = pd.DataFrame({'b1_possible_values': b1_possible_values,\n",
    "                        'b1_prior': b1_prior})\n",
    "b1_data['likelihood'] = likelihood\n",
    "b1_data['b1_posterior_unscaled'] = b1_posterior_unscaled\n",
    "b1_data['b1_posterior'] = b1_posterior\n",
    "b1_data.style.set_precision(3)"
   ]
  },
  {
   "cell_type": "markdown",
   "metadata": {},
   "source": [
    "The table above shows all the possible values of the parameter $\\beta_1$.  For each of these values, we set a prior probability, calculated a likelihood, and found the products of the priors and likelihoods.  Then we divided all the products by a common scaling factor so that they all added up to $1$.  That gave us a proper probability distribution -- the posterior."
   ]
  },
  {
   "cell_type": "markdown",
   "metadata": {},
   "source": [
    "We'll follow the same process in the next section, where we'll work with two parameters.  In addition to $\\beta_1$, we'll allow $\\beta_0$ to vary."
   ]
  },
  {
   "cell_type": "markdown",
   "metadata": {},
   "source": [
    "## Part II.  Discrete distributions, 2 parameters"
   ]
  },
  {
   "cell_type": "markdown",
   "metadata": {},
   "source": [
    "For our linear regression problem, we calculated a posterior distribution for one parameter, the coefficient $\\beta_1$, which is the slope of the regression line.  Let's make the problem a bit more complex and realistic by calculating posterior distributions for both $\\beta_0$, the $y$-intercept of the regression line, and $\\beta_1$."
   ]
  },
  {
   "cell_type": "markdown",
   "metadata": {},
   "source": [
    "### II) A. Generated data"
   ]
  },
  {
   "cell_type": "markdown",
   "metadata": {},
   "source": [
    "We'll use the same data that we generated previously, based on the same parameters where $\\beta_0 = 0$ and $\\beta_1 = 1.5$:"
   ]
  },
  {
   "cell_type": "code",
   "execution_count": 73,
   "metadata": {},
   "outputs": [
    {
     "data": {
      "text/html": [
       "<div>\n",
       "<style>\n",
       "    .dataframe thead tr:only-child th {\n",
       "        text-align: right;\n",
       "    }\n",
       "\n",
       "    .dataframe thead th {\n",
       "        text-align: left;\n",
       "    }\n",
       "\n",
       "    .dataframe tbody tr th {\n",
       "        vertical-align: top;\n",
       "    }\n",
       "</style>\n",
       "<table border=\"1\" class=\"dataframe\">\n",
       "  <thead>\n",
       "    <tr style=\"text-align: right;\">\n",
       "      <th></th>\n",
       "      <th>x</th>\n",
       "      <th>y</th>\n",
       "    </tr>\n",
       "  </thead>\n",
       "  <tbody>\n",
       "    <tr>\n",
       "      <th>0</th>\n",
       "      <td>1</td>\n",
       "      <td>1.609501</td>\n",
       "    </tr>\n",
       "    <tr>\n",
       "      <th>1</th>\n",
       "      <td>2</td>\n",
       "      <td>3.118044</td>\n",
       "    </tr>\n",
       "    <tr>\n",
       "      <th>2</th>\n",
       "      <td>3</td>\n",
       "      <td>5.491070</td>\n",
       "    </tr>\n",
       "    <tr>\n",
       "      <th>3</th>\n",
       "      <td>4</td>\n",
       "      <td>6.734883</td>\n",
       "    </tr>\n",
       "    <tr>\n",
       "      <th>4</th>\n",
       "      <td>5</td>\n",
       "      <td>6.313860</td>\n",
       "    </tr>\n",
       "  </tbody>\n",
       "</table>\n",
       "</div>"
      ],
      "text/plain": [
       "   x         y\n",
       "0  1  1.609501\n",
       "1  2  3.118044\n",
       "2  3  5.491070\n",
       "3  4  6.734883\n",
       "4  5  6.313860"
      ]
     },
     "execution_count": 73,
     "metadata": {},
     "output_type": "execute_result"
    }
   ],
   "source": [
    "data_1"
   ]
  },
  {
   "cell_type": "code",
   "execution_count": 74,
   "metadata": {},
   "outputs": [
    {
     "data": {
      "image/png": "[encoded data removed]",
      "text/plain": [
       "<matplotlib.figure.Figure at 0x7f7a84263c50>"
      ]
     },
     "execution_count": 74,
     "metadata": {},
     "output_type": "execute_result"
    }
   ],
   "source": [
    "data1_plot.fig"
   ]
  },
  {
   "cell_type": "markdown",
   "metadata": {},
   "source": [
    "### II) B. Set the prior"
   ]
  },
  {
   "cell_type": "markdown",
   "metadata": {},
   "source": [
    "We'll use the same prior for $\\beta_1$:"
   ]
  },
  {
   "cell_type": "code",
   "execution_count": 75,
   "metadata": {},
   "outputs": [
    {
     "data": {
      "text/plain": [
       "array([ 1.  ,  1.25,  1.5 ,  1.75,  2.  ])"
      ]
     },
     "execution_count": 75,
     "metadata": {},
     "output_type": "execute_result"
    }
   ],
   "source": [
    "b1_possible_values"
   ]
  },
  {
   "cell_type": "code",
   "execution_count": 76,
   "metadata": {},
   "outputs": [
    {
     "data": {
      "text/plain": [
       "array([ 0.2,  0.2,  0.2,  0.2,  0.2])"
      ]
     },
     "execution_count": 76,
     "metadata": {},
     "output_type": "execute_result"
    }
   ],
   "source": [
    "b1_prior"
   ]
  },
  {
   "cell_type": "markdown",
   "metadata": {},
   "source": [
    "We'll set a prior for $\\beta_0$ much like we did for $\\beta_1$.  First we'll set a few possible, discrete values for $\\beta_0$:"
   ]
  },
  {
   "cell_type": "code",
   "execution_count": 77,
   "metadata": {},
   "outputs": [
    {
     "data": {
      "text/plain": [
       "array([-1. , -0.5,  0. ,  0.5,  1. ])"
      ]
     },
     "execution_count": 77,
     "metadata": {},
     "output_type": "execute_result"
    }
   ],
   "source": [
    "b0_n = 5                           # number of values that beta 0 can assume\n",
    "b0_lower_bound = b0 - 1            # lower bound for beta 0\n",
    "b0_upper_bound = b0 + 1            # upper bound for beta 0\n",
    "b0_possible_values = np.linspace(b0_lower_bound, b0_upper_bound, num=b0_n)\n",
    "b0_possible_values"
   ]
  },
  {
   "cell_type": "markdown",
   "metadata": {},
   "source": [
    "Then we'll define a flat prior over those possible values for $\\beta_0$:"
   ]
  },
  {
   "cell_type": "code",
   "execution_count": 78,
   "metadata": {},
   "outputs": [
    {
     "data": {
      "text/plain": [
       "array([ 0.2,  0.2,  0.2,  0.2,  0.2])"
      ]
     },
     "execution_count": 78,
     "metadata": {},
     "output_type": "execute_result"
    }
   ],
   "source": [
    "b0_prior = np.full(b0_n, 1/b0_n)\n",
    "b0_prior"
   ]
  },
  {
   "cell_type": "markdown",
   "metadata": {},
   "source": [
    "Now we need to define the joint prior over every combination of $\\beta_0$ and $\\beta_1$.  Since these two distributions are independent, we can simply multiply the probabilities together to obtain the joint probability for each combination, as shown in the table below:"
   ]
  },
  {
   "cell_type": "code",
   "execution_count": 79,
   "metadata": {},
   "outputs": [
    {
     "data": {
      "text/html": [
       "<div>\n",
       "<style>\n",
       "    .dataframe thead tr:only-child th {\n",
       "        text-align: right;\n",
       "    }\n",
       "\n",
       "    .dataframe thead th {\n",
       "        text-align: left;\n",
       "    }\n",
       "\n",
       "    .dataframe tbody tr th {\n",
       "        vertical-align: top;\n",
       "    }\n",
       "</style>\n",
       "<table border=\"1\" class=\"dataframe\">\n",
       "  <thead>\n",
       "    <tr style=\"text-align: right;\">\n",
       "      <th></th>\n",
       "      <th>b1=1.0</th>\n",
       "      <th>b1=1.25</th>\n",
       "      <th>b1=1.5</th>\n",
       "      <th>b1=1.75</th>\n",
       "      <th>b1=2.0</th>\n",
       "    </tr>\n",
       "  </thead>\n",
       "  <tbody>\n",
       "    <tr>\n",
       "      <th>b0=-1.0</th>\n",
       "      <td>0.04</td>\n",
       "      <td>0.04</td>\n",
       "      <td>0.04</td>\n",
       "      <td>0.04</td>\n",
       "      <td>0.04</td>\n",
       "    </tr>\n",
       "    <tr>\n",
       "      <th>b0=-0.5</th>\n",
       "      <td>0.04</td>\n",
       "      <td>0.04</td>\n",
       "      <td>0.04</td>\n",
       "      <td>0.04</td>\n",
       "      <td>0.04</td>\n",
       "    </tr>\n",
       "    <tr>\n",
       "      <th>b0=0.0</th>\n",
       "      <td>0.04</td>\n",
       "      <td>0.04</td>\n",
       "      <td>0.04</td>\n",
       "      <td>0.04</td>\n",
       "      <td>0.04</td>\n",
       "    </tr>\n",
       "    <tr>\n",
       "      <th>b0=0.5</th>\n",
       "      <td>0.04</td>\n",
       "      <td>0.04</td>\n",
       "      <td>0.04</td>\n",
       "      <td>0.04</td>\n",
       "      <td>0.04</td>\n",
       "    </tr>\n",
       "    <tr>\n",
       "      <th>b0=1.0</th>\n",
       "      <td>0.04</td>\n",
       "      <td>0.04</td>\n",
       "      <td>0.04</td>\n",
       "      <td>0.04</td>\n",
       "      <td>0.04</td>\n",
       "    </tr>\n",
       "  </tbody>\n",
       "</table>\n",
       "</div>"
      ],
      "text/plain": [
       "         b1=1.0  b1=1.25  b1=1.5  b1=1.75  b1=2.0\n",
       "b0=-1.0    0.04     0.04    0.04     0.04    0.04\n",
       "b0=-0.5    0.04     0.04    0.04     0.04    0.04\n",
       "b0=0.0     0.04     0.04    0.04     0.04    0.04\n",
       "b0=0.5     0.04     0.04    0.04     0.04    0.04\n",
       "b0=1.0     0.04     0.04    0.04     0.04    0.04"
      ]
     },
     "execution_count": 79,
     "metadata": {},
     "output_type": "execute_result"
    }
   ],
   "source": [
    "b0_b1_joint_prior = np.outer(b0_prior, b1_prior)\n",
    "\n",
    "b0_names = ['b0=' + str(b0_possible_values[i])\n",
    "            for i in range(len(b0_possible_values))]\n",
    "b1_names = ['b1=' + str(b1_possible_values[i])\n",
    "            for i in range(len(b1_possible_values))]\n",
    "b0_b1_joint_prior_df = pd.DataFrame(b0_b1_joint_prior,\n",
    "                                   index=b0_names,\n",
    "                                   columns=b1_names)\n",
    "b0_b1_joint_prior_df"
   ]
  },
  {
   "cell_type": "markdown",
   "metadata": {},
   "source": [
    "Here's an alternative look at the joint prior of $\\beta_0$ and $\\beta_1$ as a plot:"
   ]
  },
  {
   "cell_type": "code",
   "execution_count": 80,
   "metadata": {
    "scrolled": false
   },
   "outputs": [
    {
     "data": {
      "image/png": "[encoded data removed]",
      "text/plain": [
       "<matplotlib.figure.Figure at 0x7f7a73e15f60>"
      ]
     },
     "metadata": {},
     "output_type": "display_data"
    }
   ],
   "source": [
    "b0_b1_combos = (np.array(np.meshgrid(b0_possible_values, b1_possible_values))\n",
    "                .T.reshape(-1, 2))\n",
    "b0_b1_joint_prior_flat = np.concatenate((\n",
    "    b0_b1_combos, b0_b1_joint_prior.flatten().reshape(-1, 1)), axis=1)\n",
    "\n",
    "plt.close('all')\n",
    "fig = plt.figure()\n",
    "ax = Axes3D(fig)\n",
    "ax.set_xlabel('beta_0')\n",
    "ax.set_ylabel('beta_1')\n",
    "ax.scatter(b0_b1_joint_prior_flat[:, 0],\n",
    "           b0_b1_joint_prior_flat[:, 1],\n",
    "           b0_b1_joint_prior_flat[:, 2],)\n",
    "plt.show()"
   ]
  },
  {
   "cell_type": "markdown",
   "metadata": {},
   "source": [
    "### II) C. Calculate the likelihood"
   ]
  },
  {
   "cell_type": "markdown",
   "metadata": {},
   "source": [
    "Now that we've set the joint prior, we need to calculate the likelihood of the data given our model at all possible values of the parameters $\\beta_0$ and $\\beta_1$."
   ]
  },
  {
   "cell_type": "markdown",
   "metadata": {},
   "source": [
    "Let's set up our matrix of parameters.  Since each parameter can assume several values, we need to calculate the likelihood at every combination of the values of those parameters"
   ]
  },
  {
   "cell_type": "code",
   "execution_count": 81,
   "metadata": {},
   "outputs": [
    {
     "data": {
      "text/html": [
       "<div>\n",
       "<style>\n",
       "    .dataframe thead tr:only-child th {\n",
       "        text-align: right;\n",
       "    }\n",
       "\n",
       "    .dataframe thead th {\n",
       "        text-align: left;\n",
       "    }\n",
       "\n",
       "    .dataframe tbody tr th {\n",
       "        vertical-align: top;\n",
       "    }\n",
       "</style>\n",
       "<table border=\"1\" class=\"dataframe\">\n",
       "  <thead>\n",
       "    <tr style=\"text-align: right;\">\n",
       "      <th></th>\n",
       "      <th>beta_0</th>\n",
       "      <th>beta_1</th>\n",
       "    </tr>\n",
       "  </thead>\n",
       "  <tbody>\n",
       "    <tr>\n",
       "      <th>0</th>\n",
       "      <td>-1.0</td>\n",
       "      <td>1.00</td>\n",
       "    </tr>\n",
       "    <tr>\n",
       "      <th>1</th>\n",
       "      <td>-1.0</td>\n",
       "      <td>1.25</td>\n",
       "    </tr>\n",
       "    <tr>\n",
       "      <th>2</th>\n",
       "      <td>-1.0</td>\n",
       "      <td>1.50</td>\n",
       "    </tr>\n",
       "    <tr>\n",
       "      <th>3</th>\n",
       "      <td>-1.0</td>\n",
       "      <td>1.75</td>\n",
       "    </tr>\n",
       "    <tr>\n",
       "      <th>4</th>\n",
       "      <td>-1.0</td>\n",
       "      <td>2.00</td>\n",
       "    </tr>\n",
       "    <tr>\n",
       "      <th>5</th>\n",
       "      <td>-0.5</td>\n",
       "      <td>1.00</td>\n",
       "    </tr>\n",
       "    <tr>\n",
       "      <th>6</th>\n",
       "      <td>-0.5</td>\n",
       "      <td>1.25</td>\n",
       "    </tr>\n",
       "    <tr>\n",
       "      <th>7</th>\n",
       "      <td>-0.5</td>\n",
       "      <td>1.50</td>\n",
       "    </tr>\n",
       "    <tr>\n",
       "      <th>8</th>\n",
       "      <td>-0.5</td>\n",
       "      <td>1.75</td>\n",
       "    </tr>\n",
       "    <tr>\n",
       "      <th>9</th>\n",
       "      <td>-0.5</td>\n",
       "      <td>2.00</td>\n",
       "    </tr>\n",
       "    <tr>\n",
       "      <th>10</th>\n",
       "      <td>0.0</td>\n",
       "      <td>1.00</td>\n",
       "    </tr>\n",
       "    <tr>\n",
       "      <th>11</th>\n",
       "      <td>0.0</td>\n",
       "      <td>1.25</td>\n",
       "    </tr>\n",
       "    <tr>\n",
       "      <th>12</th>\n",
       "      <td>0.0</td>\n",
       "      <td>1.50</td>\n",
       "    </tr>\n",
       "    <tr>\n",
       "      <th>13</th>\n",
       "      <td>0.0</td>\n",
       "      <td>1.75</td>\n",
       "    </tr>\n",
       "    <tr>\n",
       "      <th>14</th>\n",
       "      <td>0.0</td>\n",
       "      <td>2.00</td>\n",
       "    </tr>\n",
       "    <tr>\n",
       "      <th>15</th>\n",
       "      <td>0.5</td>\n",
       "      <td>1.00</td>\n",
       "    </tr>\n",
       "    <tr>\n",
       "      <th>16</th>\n",
       "      <td>0.5</td>\n",
       "      <td>1.25</td>\n",
       "    </tr>\n",
       "    <tr>\n",
       "      <th>17</th>\n",
       "      <td>0.5</td>\n",
       "      <td>1.50</td>\n",
       "    </tr>\n",
       "    <tr>\n",
       "      <th>18</th>\n",
       "      <td>0.5</td>\n",
       "      <td>1.75</td>\n",
       "    </tr>\n",
       "    <tr>\n",
       "      <th>19</th>\n",
       "      <td>0.5</td>\n",
       "      <td>2.00</td>\n",
       "    </tr>\n",
       "    <tr>\n",
       "      <th>20</th>\n",
       "      <td>1.0</td>\n",
       "      <td>1.00</td>\n",
       "    </tr>\n",
       "    <tr>\n",
       "      <th>21</th>\n",
       "      <td>1.0</td>\n",
       "      <td>1.25</td>\n",
       "    </tr>\n",
       "    <tr>\n",
       "      <th>22</th>\n",
       "      <td>1.0</td>\n",
       "      <td>1.50</td>\n",
       "    </tr>\n",
       "    <tr>\n",
       "      <th>23</th>\n",
       "      <td>1.0</td>\n",
       "      <td>1.75</td>\n",
       "    </tr>\n",
       "    <tr>\n",
       "      <th>24</th>\n",
       "      <td>1.0</td>\n",
       "      <td>2.00</td>\n",
       "    </tr>\n",
       "  </tbody>\n",
       "</table>\n",
       "</div>"
      ],
      "text/plain": [
       "    beta_0  beta_1\n",
       "0     -1.0    1.00\n",
       "1     -1.0    1.25\n",
       "2     -1.0    1.50\n",
       "3     -1.0    1.75\n",
       "4     -1.0    2.00\n",
       "5     -0.5    1.00\n",
       "6     -0.5    1.25\n",
       "7     -0.5    1.50\n",
       "8     -0.5    1.75\n",
       "9     -0.5    2.00\n",
       "10     0.0    1.00\n",
       "11     0.0    1.25\n",
       "12     0.0    1.50\n",
       "13     0.0    1.75\n",
       "14     0.0    2.00\n",
       "15     0.5    1.00\n",
       "16     0.5    1.25\n",
       "17     0.5    1.50\n",
       "18     0.5    1.75\n",
       "19     0.5    2.00\n",
       "20     1.0    1.00\n",
       "21     1.0    1.25\n",
       "22     1.0    1.50\n",
       "23     1.0    1.75\n",
       "24     1.0    2.00"
      ]
     },
     "execution_count": 81,
     "metadata": {},
     "output_type": "execute_result"
    }
   ],
   "source": [
    "parameters = b0_b1_combos.T\n",
    "\n",
    "b0_b1_combos_df = pd.DataFrame(b0_b1_combos,\n",
    "                               columns=['beta_0', 'beta_1'])\n",
    "b0_b1_combos_df"
   ]
  },
  {
   "cell_type": "markdown",
   "metadata": {},
   "source": [
    "Now we predict our response variable $y$ based on the predictor variable $x$ and our parameters:"
   ]
  },
  {
   "cell_type": "code",
   "execution_count": 94,
   "metadata": {},
   "outputs": [
    {
     "data": {
      "text/html": [
       "<div>\n",
       "<style>\n",
       "    .dataframe thead tr:only-child th {\n",
       "        text-align: right;\n",
       "    }\n",
       "\n",
       "    .dataframe thead th {\n",
       "        text-align: left;\n",
       "    }\n",
       "\n",
       "    .dataframe tbody tr th {\n",
       "        vertical-align: top;\n",
       "    }\n",
       "</style>\n",
       "<table border=\"1\" class=\"dataframe\">\n",
       "  <thead>\n",
       "    <tr style=\"text-align: right;\">\n",
       "      <th></th>\n",
       "      <th>beta_0</th>\n",
       "      <th>beta_1</th>\n",
       "      <th>x=1</th>\n",
       "      <th>x=2</th>\n",
       "      <th>x=3</th>\n",
       "      <th>x=4</th>\n",
       "      <th>x=5</th>\n",
       "    </tr>\n",
       "  </thead>\n",
       "  <tbody>\n",
       "    <tr>\n",
       "      <th>0</th>\n",
       "      <td>-1.0</td>\n",
       "      <td>1.00</td>\n",
       "      <td>0.00</td>\n",
       "      <td>1.0</td>\n",
       "      <td>2.00</td>\n",
       "      <td>3.0</td>\n",
       "      <td>4.00</td>\n",
       "    </tr>\n",
       "    <tr>\n",
       "      <th>1</th>\n",
       "      <td>-1.0</td>\n",
       "      <td>1.25</td>\n",
       "      <td>0.25</td>\n",
       "      <td>1.5</td>\n",
       "      <td>2.75</td>\n",
       "      <td>4.0</td>\n",
       "      <td>5.25</td>\n",
       "    </tr>\n",
       "    <tr>\n",
       "      <th>2</th>\n",
       "      <td>-1.0</td>\n",
       "      <td>1.50</td>\n",
       "      <td>0.50</td>\n",
       "      <td>2.0</td>\n",
       "      <td>3.50</td>\n",
       "      <td>5.0</td>\n",
       "      <td>6.50</td>\n",
       "    </tr>\n",
       "    <tr>\n",
       "      <th>3</th>\n",
       "      <td>-1.0</td>\n",
       "      <td>1.75</td>\n",
       "      <td>0.75</td>\n",
       "      <td>2.5</td>\n",
       "      <td>4.25</td>\n",
       "      <td>6.0</td>\n",
       "      <td>7.75</td>\n",
       "    </tr>\n",
       "    <tr>\n",
       "      <th>4</th>\n",
       "      <td>-1.0</td>\n",
       "      <td>2.00</td>\n",
       "      <td>1.00</td>\n",
       "      <td>3.0</td>\n",
       "      <td>5.00</td>\n",
       "      <td>7.0</td>\n",
       "      <td>9.00</td>\n",
       "    </tr>\n",
       "    <tr>\n",
       "      <th>5</th>\n",
       "      <td>-0.5</td>\n",
       "      <td>1.00</td>\n",
       "      <td>0.50</td>\n",
       "      <td>1.5</td>\n",
       "      <td>2.50</td>\n",
       "      <td>3.5</td>\n",
       "      <td>4.50</td>\n",
       "    </tr>\n",
       "    <tr>\n",
       "      <th>6</th>\n",
       "      <td>-0.5</td>\n",
       "      <td>1.25</td>\n",
       "      <td>0.75</td>\n",
       "      <td>2.0</td>\n",
       "      <td>3.25</td>\n",
       "      <td>4.5</td>\n",
       "      <td>5.75</td>\n",
       "    </tr>\n",
       "    <tr>\n",
       "      <th>7</th>\n",
       "      <td>-0.5</td>\n",
       "      <td>1.50</td>\n",
       "      <td>1.00</td>\n",
       "      <td>2.5</td>\n",
       "      <td>4.00</td>\n",
       "      <td>5.5</td>\n",
       "      <td>7.00</td>\n",
       "    </tr>\n",
       "    <tr>\n",
       "      <th>8</th>\n",
       "      <td>-0.5</td>\n",
       "      <td>1.75</td>\n",
       "      <td>1.25</td>\n",
       "      <td>3.0</td>\n",
       "      <td>4.75</td>\n",
       "      <td>6.5</td>\n",
       "      <td>8.25</td>\n",
       "    </tr>\n",
       "    <tr>\n",
       "      <th>9</th>\n",
       "      <td>-0.5</td>\n",
       "      <td>2.00</td>\n",
       "      <td>1.50</td>\n",
       "      <td>3.5</td>\n",
       "      <td>5.50</td>\n",
       "      <td>7.5</td>\n",
       "      <td>9.50</td>\n",
       "    </tr>\n",
       "    <tr>\n",
       "      <th>10</th>\n",
       "      <td>0.0</td>\n",
       "      <td>1.00</td>\n",
       "      <td>1.00</td>\n",
       "      <td>2.0</td>\n",
       "      <td>3.00</td>\n",
       "      <td>4.0</td>\n",
       "      <td>5.00</td>\n",
       "    </tr>\n",
       "    <tr>\n",
       "      <th>11</th>\n",
       "      <td>0.0</td>\n",
       "      <td>1.25</td>\n",
       "      <td>1.25</td>\n",
       "      <td>2.5</td>\n",
       "      <td>3.75</td>\n",
       "      <td>5.0</td>\n",
       "      <td>6.25</td>\n",
       "    </tr>\n",
       "    <tr>\n",
       "      <th>12</th>\n",
       "      <td>0.0</td>\n",
       "      <td>1.50</td>\n",
       "      <td>1.50</td>\n",
       "      <td>3.0</td>\n",
       "      <td>4.50</td>\n",
       "      <td>6.0</td>\n",
       "      <td>7.50</td>\n",
       "    </tr>\n",
       "    <tr>\n",
       "      <th>13</th>\n",
       "      <td>0.0</td>\n",
       "      <td>1.75</td>\n",
       "      <td>1.75</td>\n",
       "      <td>3.5</td>\n",
       "      <td>5.25</td>\n",
       "      <td>7.0</td>\n",
       "      <td>8.75</td>\n",
       "    </tr>\n",
       "    <tr>\n",
       "      <th>14</th>\n",
       "      <td>0.0</td>\n",
       "      <td>2.00</td>\n",
       "      <td>2.00</td>\n",
       "      <td>4.0</td>\n",
       "      <td>6.00</td>\n",
       "      <td>8.0</td>\n",
       "      <td>10.00</td>\n",
       "    </tr>\n",
       "    <tr>\n",
       "      <th>15</th>\n",
       "      <td>0.5</td>\n",
       "      <td>1.00</td>\n",
       "      <td>1.50</td>\n",
       "      <td>2.5</td>\n",
       "      <td>3.50</td>\n",
       "      <td>4.5</td>\n",
       "      <td>5.50</td>\n",
       "    </tr>\n",
       "    <tr>\n",
       "      <th>16</th>\n",
       "      <td>0.5</td>\n",
       "      <td>1.25</td>\n",
       "      <td>1.75</td>\n",
       "      <td>3.0</td>\n",
       "      <td>4.25</td>\n",
       "      <td>5.5</td>\n",
       "      <td>6.75</td>\n",
       "    </tr>\n",
       "    <tr>\n",
       "      <th>17</th>\n",
       "      <td>0.5</td>\n",
       "      <td>1.50</td>\n",
       "      <td>2.00</td>\n",
       "      <td>3.5</td>\n",
       "      <td>5.00</td>\n",
       "      <td>6.5</td>\n",
       "      <td>8.00</td>\n",
       "    </tr>\n",
       "    <tr>\n",
       "      <th>18</th>\n",
       "      <td>0.5</td>\n",
       "      <td>1.75</td>\n",
       "      <td>2.25</td>\n",
       "      <td>4.0</td>\n",
       "      <td>5.75</td>\n",
       "      <td>7.5</td>\n",
       "      <td>9.25</td>\n",
       "    </tr>\n",
       "    <tr>\n",
       "      <th>19</th>\n",
       "      <td>0.5</td>\n",
       "      <td>2.00</td>\n",
       "      <td>2.50</td>\n",
       "      <td>4.5</td>\n",
       "      <td>6.50</td>\n",
       "      <td>8.5</td>\n",
       "      <td>10.50</td>\n",
       "    </tr>\n",
       "    <tr>\n",
       "      <th>20</th>\n",
       "      <td>1.0</td>\n",
       "      <td>1.00</td>\n",
       "      <td>2.00</td>\n",
       "      <td>3.0</td>\n",
       "      <td>4.00</td>\n",
       "      <td>5.0</td>\n",
       "      <td>6.00</td>\n",
       "    </tr>\n",
       "    <tr>\n",
       "      <th>21</th>\n",
       "      <td>1.0</td>\n",
       "      <td>1.25</td>\n",
       "      <td>2.25</td>\n",
       "      <td>3.5</td>\n",
       "      <td>4.75</td>\n",
       "      <td>6.0</td>\n",
       "      <td>7.25</td>\n",
       "    </tr>\n",
       "    <tr>\n",
       "      <th>22</th>\n",
       "      <td>1.0</td>\n",
       "      <td>1.50</td>\n",
       "      <td>2.50</td>\n",
       "      <td>4.0</td>\n",
       "      <td>5.50</td>\n",
       "      <td>7.0</td>\n",
       "      <td>8.50</td>\n",
       "    </tr>\n",
       "    <tr>\n",
       "      <th>23</th>\n",
       "      <td>1.0</td>\n",
       "      <td>1.75</td>\n",
       "      <td>2.75</td>\n",
       "      <td>4.5</td>\n",
       "      <td>6.25</td>\n",
       "      <td>8.0</td>\n",
       "      <td>9.75</td>\n",
       "    </tr>\n",
       "    <tr>\n",
       "      <th>24</th>\n",
       "      <td>1.0</td>\n",
       "      <td>2.00</td>\n",
       "      <td>3.00</td>\n",
       "      <td>5.0</td>\n",
       "      <td>7.00</td>\n",
       "      <td>9.0</td>\n",
       "      <td>11.00</td>\n",
       "    </tr>\n",
       "  </tbody>\n",
       "</table>\n",
       "</div>"
      ],
      "text/plain": [
       "    beta_0  beta_1   x=1  x=2   x=3  x=4    x=5\n",
       "0     -1.0    1.00  0.00  1.0  2.00  3.0   4.00\n",
       "1     -1.0    1.25  0.25  1.5  2.75  4.0   5.25\n",
       "2     -1.0    1.50  0.50  2.0  3.50  5.0   6.50\n",
       "3     -1.0    1.75  0.75  2.5  4.25  6.0   7.75\n",
       "4     -1.0    2.00  1.00  3.0  5.00  7.0   9.00\n",
       "5     -0.5    1.00  0.50  1.5  2.50  3.5   4.50\n",
       "6     -0.5    1.25  0.75  2.0  3.25  4.5   5.75\n",
       "7     -0.5    1.50  1.00  2.5  4.00  5.5   7.00\n",
       "8     -0.5    1.75  1.25  3.0  4.75  6.5   8.25\n",
       "9     -0.5    2.00  1.50  3.5  5.50  7.5   9.50\n",
       "10     0.0    1.00  1.00  2.0  3.00  4.0   5.00\n",
       "11     0.0    1.25  1.25  2.5  3.75  5.0   6.25\n",
       "12     0.0    1.50  1.50  3.0  4.50  6.0   7.50\n",
       "13     0.0    1.75  1.75  3.5  5.25  7.0   8.75\n",
       "14     0.0    2.00  2.00  4.0  6.00  8.0  10.00\n",
       "15     0.5    1.00  1.50  2.5  3.50  4.5   5.50\n",
       "16     0.5    1.25  1.75  3.0  4.25  5.5   6.75\n",
       "17     0.5    1.50  2.00  3.5  5.00  6.5   8.00\n",
       "18     0.5    1.75  2.25  4.0  5.75  7.5   9.25\n",
       "19     0.5    2.00  2.50  4.5  6.50  8.5  10.50\n",
       "20     1.0    1.00  2.00  3.0  4.00  5.0   6.00\n",
       "21     1.0    1.25  2.25  3.5  4.75  6.0   7.25\n",
       "22     1.0    1.50  2.50  4.0  5.50  7.0   8.50\n",
       "23     1.0    1.75  2.75  4.5  6.25  8.0   9.75\n",
       "24     1.0    2.00  3.00  5.0  7.00  9.0  11.00"
      ]
     },
     "execution_count": 94,
     "metadata": {},
     "output_type": "execute_result"
    }
   ],
   "source": [
    "predicted_y = predict_y(x.reshape(-1, 1), parameters)\n",
    "\n",
    "parameter_names = ['b0=' + str(parameters[0, i]) +\n",
    "                   ', b1=' + str(parameters[1, i])\n",
    "                   for i in range(parameters.shape[1])]\n",
    "predicted_y_df = pd.DataFrame(predicted_y.T,\n",
    "                              columns=x_names)\n",
    "\n",
    "overall_df = pd.concat((b0_b1_combos_df, predicted_y_df), axis=1, ignore_index=False)\n",
    "overall_df"
   ]
  },
  {
   "cell_type": "markdown",
   "metadata": {},
   "source": [
    "Each combination of $\\beta_0$ and $\\beta_1$ is shown on its own row in the table above.  The predictions of the linear model with that combination of parameter values is shown across the remaining columns of that row.  Each of these columns represents a different $x$ value."
   ]
  },
  {
   "cell_type": "markdown",
   "metadata": {},
   "source": [
    "Now we can use our predicted values of $y$ in the table above to calculate the likelihoods of the actual $y$ that we observed for each of the possible combinations of $\\beta_0$ and $\\beta_1$:"
   ]
  },
  {
   "cell_type": "code",
   "execution_count": 95,
   "metadata": {
    "scrolled": false
   },
   "outputs": [
    {
     "data": {
      "text/html": [
       "<div>\n",
       "<style>\n",
       "    .dataframe thead tr:only-child th {\n",
       "        text-align: right;\n",
       "    }\n",
       "\n",
       "    .dataframe thead th {\n",
       "        text-align: left;\n",
       "    }\n",
       "\n",
       "    .dataframe tbody tr th {\n",
       "        vertical-align: top;\n",
       "    }\n",
       "</style>\n",
       "<table border=\"1\" class=\"dataframe\">\n",
       "  <thead>\n",
       "    <tr style=\"text-align: right;\">\n",
       "      <th></th>\n",
       "      <th>beta_0</th>\n",
       "      <th>beta_1</th>\n",
       "      <th>x=1</th>\n",
       "      <th>x=2</th>\n",
       "      <th>x=3</th>\n",
       "      <th>x=4</th>\n",
       "      <th>x=5</th>\n",
       "      <th>likelihood</th>\n",
       "    </tr>\n",
       "  </thead>\n",
       "  <tbody>\n",
       "    <tr>\n",
       "      <th>0</th>\n",
       "      <td>-1.0</td>\n",
       "      <td>1.00</td>\n",
       "      <td>0.00</td>\n",
       "      <td>1.0</td>\n",
       "      <td>2.00</td>\n",
       "      <td>3.0</td>\n",
       "      <td>4.00</td>\n",
       "      <td>9.626421e-15</td>\n",
       "    </tr>\n",
       "    <tr>\n",
       "      <th>1</th>\n",
       "      <td>-1.0</td>\n",
       "      <td>1.25</td>\n",
       "      <td>0.25</td>\n",
       "      <td>1.5</td>\n",
       "      <td>2.75</td>\n",
       "      <td>4.0</td>\n",
       "      <td>5.25</td>\n",
       "      <td>5.439089e-11</td>\n",
       "    </tr>\n",
       "    <tr>\n",
       "      <th>2</th>\n",
       "      <td>-1.0</td>\n",
       "      <td>1.50</td>\n",
       "      <td>0.50</td>\n",
       "      <td>2.0</td>\n",
       "      <td>3.50</td>\n",
       "      <td>5.0</td>\n",
       "      <td>6.50</td>\n",
       "      <td>9.734922e-06</td>\n",
       "    </tr>\n",
       "    <tr>\n",
       "      <th>3</th>\n",
       "      <td>-1.0</td>\n",
       "      <td>1.75</td>\n",
       "      <td>0.75</td>\n",
       "      <td>2.5</td>\n",
       "      <td>4.25</td>\n",
       "      <td>6.0</td>\n",
       "      <td>7.75</td>\n",
       "      <td>7.027992e-04</td>\n",
       "    </tr>\n",
       "    <tr>\n",
       "      <th>4</th>\n",
       "      <td>-1.0</td>\n",
       "      <td>2.00</td>\n",
       "      <td>1.00</td>\n",
       "      <td>3.0</td>\n",
       "      <td>5.00</td>\n",
       "      <td>7.0</td>\n",
       "      <td>9.00</td>\n",
       "      <td>2.612297e-04</td>\n",
       "    </tr>\n",
       "    <tr>\n",
       "      <th>5</th>\n",
       "      <td>-0.5</td>\n",
       "      <td>1.00</td>\n",
       "      <td>0.50</td>\n",
       "      <td>1.5</td>\n",
       "      <td>2.50</td>\n",
       "      <td>3.5</td>\n",
       "      <td>4.50</td>\n",
       "      <td>7.300197e-11</td>\n",
       "    </tr>\n",
       "    <tr>\n",
       "      <th>6</th>\n",
       "      <td>-0.5</td>\n",
       "      <td>1.25</td>\n",
       "      <td>0.75</td>\n",
       "      <td>2.0</td>\n",
       "      <td>3.25</td>\n",
       "      <td>4.5</td>\n",
       "      <td>5.75</td>\n",
       "      <td>2.301751e-07</td>\n",
       "    </tr>\n",
       "    <tr>\n",
       "      <th>7</th>\n",
       "      <td>-0.5</td>\n",
       "      <td>1.50</td>\n",
       "      <td>1.00</td>\n",
       "      <td>2.5</td>\n",
       "      <td>4.00</td>\n",
       "      <td>5.5</td>\n",
       "      <td>7.00</td>\n",
       "      <td>5.211130e-04</td>\n",
       "    </tr>\n",
       "    <tr>\n",
       "      <th>8</th>\n",
       "      <td>-0.5</td>\n",
       "      <td>1.75</td>\n",
       "      <td>1.25</td>\n",
       "      <td>3.0</td>\n",
       "      <td>4.75</td>\n",
       "      <td>6.5</td>\n",
       "      <td>8.25</td>\n",
       "      <td>1.081616e-03</td>\n",
       "    </tr>\n",
       "    <tr>\n",
       "      <th>9</th>\n",
       "      <td>-0.5</td>\n",
       "      <td>2.00</td>\n",
       "      <td>1.50</td>\n",
       "      <td>3.5</td>\n",
       "      <td>5.50</td>\n",
       "      <td>7.5</td>\n",
       "      <td>9.50</td>\n",
       "      <td>9.421658e-05</td>\n",
       "    </tr>\n",
       "    <tr>\n",
       "      <th>10</th>\n",
       "      <td>0.0</td>\n",
       "      <td>1.00</td>\n",
       "      <td>1.00</td>\n",
       "      <td>2.0</td>\n",
       "      <td>3.00</td>\n",
       "      <td>4.0</td>\n",
       "      <td>5.00</td>\n",
       "      <td>8.631090e-08</td>\n",
       "    </tr>\n",
       "    <tr>\n",
       "      <th>11</th>\n",
       "      <td>0.0</td>\n",
       "      <td>1.25</td>\n",
       "      <td>1.25</td>\n",
       "      <td>2.5</td>\n",
       "      <td>3.75</td>\n",
       "      <td>5.0</td>\n",
       "      <td>6.25</td>\n",
       "      <td>7.797379e-05</td>\n",
       "    </tr>\n",
       "    <tr>\n",
       "      <th>12</th>\n",
       "      <td>0.0</td>\n",
       "      <td>1.50</td>\n",
       "      <td>1.50</td>\n",
       "      <td>3.0</td>\n",
       "      <td>4.50</td>\n",
       "      <td>6.0</td>\n",
       "      <td>7.50</td>\n",
       "      <td>3.082396e-03</td>\n",
       "    </tr>\n",
       "    <tr>\n",
       "      <th>13</th>\n",
       "      <td>0.0</td>\n",
       "      <td>1.75</td>\n",
       "      <td>1.75</td>\n",
       "      <td>3.5</td>\n",
       "      <td>5.25</td>\n",
       "      <td>7.0</td>\n",
       "      <td>8.75</td>\n",
       "      <td>4.085955e-04</td>\n",
       "    </tr>\n",
       "    <tr>\n",
       "      <th>14</th>\n",
       "      <td>0.0</td>\n",
       "      <td>2.00</td>\n",
       "      <td>2.00</td>\n",
       "      <td>4.0</td>\n",
       "      <td>6.00</td>\n",
       "      <td>8.0</td>\n",
       "      <td>10.00</td>\n",
       "      <td>1.445456e-05</td>\n",
       "    </tr>\n",
       "    <tr>\n",
       "      <th>15</th>\n",
       "      <td>0.5</td>\n",
       "      <td>1.00</td>\n",
       "      <td>1.50</td>\n",
       "      <td>2.5</td>\n",
       "      <td>3.50</td>\n",
       "      <td>4.5</td>\n",
       "      <td>5.50</td>\n",
       "      <td>1.590956e-05</td>\n",
       "    </tr>\n",
       "    <tr>\n",
       "      <th>16</th>\n",
       "      <td>0.5</td>\n",
       "      <td>1.25</td>\n",
       "      <td>1.75</td>\n",
       "      <td>3.0</td>\n",
       "      <td>4.25</td>\n",
       "      <td>5.5</td>\n",
       "      <td>6.75</td>\n",
       "      <td>2.114449e-03</td>\n",
       "    </tr>\n",
       "    <tr>\n",
       "      <th>17</th>\n",
       "      <td>0.5</td>\n",
       "      <td>1.50</td>\n",
       "      <td>2.00</td>\n",
       "      <td>3.5</td>\n",
       "      <td>5.00</td>\n",
       "      <td>6.5</td>\n",
       "      <td>8.00</td>\n",
       "      <td>2.014661e-03</td>\n",
       "    </tr>\n",
       "    <tr>\n",
       "      <th>18</th>\n",
       "      <td>0.5</td>\n",
       "      <td>1.75</td>\n",
       "      <td>2.25</td>\n",
       "      <td>4.0</td>\n",
       "      <td>5.75</td>\n",
       "      <td>7.5</td>\n",
       "      <td>9.25</td>\n",
       "      <td>3.788720e-05</td>\n",
       "    </tr>\n",
       "    <tr>\n",
       "      <th>19</th>\n",
       "      <td>0.5</td>\n",
       "      <td>2.00</td>\n",
       "      <td>2.50</td>\n",
       "      <td>4.5</td>\n",
       "      <td>6.50</td>\n",
       "      <td>8.5</td>\n",
       "      <td>10.50</td>\n",
       "      <td>9.433116e-07</td>\n",
       "    </tr>\n",
       "    <tr>\n",
       "      <th>20</th>\n",
       "      <td>1.0</td>\n",
       "      <td>1.00</td>\n",
       "      <td>2.00</td>\n",
       "      <td>3.0</td>\n",
       "      <td>4.00</td>\n",
       "      <td>5.0</td>\n",
       "      <td>6.00</td>\n",
       "      <td>4.572058e-04</td>\n",
       "    </tr>\n",
       "    <tr>\n",
       "      <th>21</th>\n",
       "      <td>1.0</td>\n",
       "      <td>1.25</td>\n",
       "      <td>2.25</td>\n",
       "      <td>3.5</td>\n",
       "      <td>4.75</td>\n",
       "      <td>6.0</td>\n",
       "      <td>7.25</td>\n",
       "      <td>4.589907e-03</td>\n",
       "    </tr>\n",
       "    <tr>\n",
       "      <th>22</th>\n",
       "      <td>1.0</td>\n",
       "      <td>1.50</td>\n",
       "      <td>2.50</td>\n",
       "      <td>4.0</td>\n",
       "      <td>5.50</td>\n",
       "      <td>7.0</td>\n",
       "      <td>8.50</td>\n",
       "      <td>1.455032e-04</td>\n",
       "    </tr>\n",
       "    <tr>\n",
       "      <th>23</th>\n",
       "      <td>1.0</td>\n",
       "      <td>1.75</td>\n",
       "      <td>2.75</td>\n",
       "      <td>4.5</td>\n",
       "      <td>6.25</td>\n",
       "      <td>8.0</td>\n",
       "      <td>9.75</td>\n",
       "      <td>8.623227e-07</td>\n",
       "    </tr>\n",
       "    <tr>\n",
       "      <th>24</th>\n",
       "      <td>1.0</td>\n",
       "      <td>2.00</td>\n",
       "      <td>3.00</td>\n",
       "      <td>5.0</td>\n",
       "      <td>7.00</td>\n",
       "      <td>9.0</td>\n",
       "      <td>11.00</td>\n",
       "      <td>2.618654e-08</td>\n",
       "    </tr>\n",
       "  </tbody>\n",
       "</table>\n",
       "</div>"
      ],
      "text/plain": [
       "    beta_0  beta_1   x=1  x=2   x=3  x=4    x=5    likelihood\n",
       "0     -1.0    1.00  0.00  1.0  2.00  3.0   4.00  9.626421e-15\n",
       "1     -1.0    1.25  0.25  1.5  2.75  4.0   5.25  5.439089e-11\n",
       "2     -1.0    1.50  0.50  2.0  3.50  5.0   6.50  9.734922e-06\n",
       "3     -1.0    1.75  0.75  2.5  4.25  6.0   7.75  7.027992e-04\n",
       "4     -1.0    2.00  1.00  3.0  5.00  7.0   9.00  2.612297e-04\n",
       "5     -0.5    1.00  0.50  1.5  2.50  3.5   4.50  7.300197e-11\n",
       "6     -0.5    1.25  0.75  2.0  3.25  4.5   5.75  2.301751e-07\n",
       "7     -0.5    1.50  1.00  2.5  4.00  5.5   7.00  5.211130e-04\n",
       "8     -0.5    1.75  1.25  3.0  4.75  6.5   8.25  1.081616e-03\n",
       "9     -0.5    2.00  1.50  3.5  5.50  7.5   9.50  9.421658e-05\n",
       "10     0.0    1.00  1.00  2.0  3.00  4.0   5.00  8.631090e-08\n",
       "11     0.0    1.25  1.25  2.5  3.75  5.0   6.25  7.797379e-05\n",
       "12     0.0    1.50  1.50  3.0  4.50  6.0   7.50  3.082396e-03\n",
       "13     0.0    1.75  1.75  3.5  5.25  7.0   8.75  4.085955e-04\n",
       "14     0.0    2.00  2.00  4.0  6.00  8.0  10.00  1.445456e-05\n",
       "15     0.5    1.00  1.50  2.5  3.50  4.5   5.50  1.590956e-05\n",
       "16     0.5    1.25  1.75  3.0  4.25  5.5   6.75  2.114449e-03\n",
       "17     0.5    1.50  2.00  3.5  5.00  6.5   8.00  2.014661e-03\n",
       "18     0.5    1.75  2.25  4.0  5.75  7.5   9.25  3.788720e-05\n",
       "19     0.5    2.00  2.50  4.5  6.50  8.5  10.50  9.433116e-07\n",
       "20     1.0    1.00  2.00  3.0  4.00  5.0   6.00  4.572058e-04\n",
       "21     1.0    1.25  2.25  3.5  4.75  6.0   7.25  4.589907e-03\n",
       "22     1.0    1.50  2.50  4.0  5.50  7.0   8.50  1.455032e-04\n",
       "23     1.0    1.75  2.75  4.5  6.25  8.0   9.75  8.623227e-07\n",
       "24     1.0    2.00  3.00  5.0  7.00  9.0  11.00  2.618654e-08"
      ]
     },
     "execution_count": 95,
     "metadata": {},
     "output_type": "execute_result"
    }
   ],
   "source": [
    "likelihood = np.array([get_regress_likelihood(y, predicted_y[:, i])\n",
    "                       for i in range(predicted_y.shape[1])])\n",
    "\n",
    "likelihood_df = pd.DataFrame(likelihood,\n",
    "                             columns=['likelihood'])\n",
    "\n",
    "overall_df = pd.concat((overall_df, likelihood_df), axis=1, ignore_index=False)\n",
    "overall_df"
   ]
  },
  {
   "cell_type": "markdown",
   "metadata": {},
   "source": [
    "In the table above, we've added a new column showing the likelihoods for every possible combination of $\\beta_0$ and $\\beta_1$.  The plot below shows the same thing:"
   ]
  },
  {
   "cell_type": "code",
   "execution_count": 30,
   "metadata": {
    "scrolled": true
   },
   "outputs": [
    {
     "data": {
      "image/png": "[encoded data removed]",
      "text/plain": [
       "<matplotlib.figure.Figure at 0x7f7a8ebe2940>"
      ]
     },
     "metadata": {},
     "output_type": "display_data"
    }
   ],
   "source": [
    "b0_b1_likelihood = np.concatenate((\n",
    "    b0_b1_combos, likelihood.reshape(-1, 1)), axis=1)\n",
    "\n",
    "fig = plt.figure()\n",
    "ax = Axes3D(fig)\n",
    "ax.set_xlabel('beta_0')\n",
    "ax.set_ylabel('beta_1')\n",
    "ax.scatter(b0_b1_likelihood[:, 0],\n",
    "           b0_b1_likelihood[:, 1],\n",
    "           b0_b1_likelihood[:, 2],)\n",
    "plt.show()"
   ]
  },
  {
   "cell_type": "markdown",
   "metadata": {},
   "source": [
    "The details in the 3-dimensional plot above are somewhat difficult to see, but it's clear that several of the parameter combinations are substantially more likely than others."
   ]
  },
  {
   "cell_type": "code",
   "execution_count": 31,
   "metadata": {},
   "outputs": [
    {
     "data": {
      "text/plain": [
       "array([[-1. , -0.5,  0. ,  0.5,  1. ],\n",
       "       [-1. , -0.5,  0. ,  0.5,  1. ],\n",
       "       [-1. , -0.5,  0. ,  0.5,  1. ],\n",
       "       [-1. , -0.5,  0. ,  0.5,  1. ],\n",
       "       [-1. , -0.5,  0. ,  0.5,  1. ]])"
      ]
     },
     "execution_count": 31,
     "metadata": {},
     "output_type": "execute_result"
    }
   ],
   "source": [
    "np.tile(b0_possible_values, (b1_n, 1))"
   ]
  },
  {
   "cell_type": "code",
   "execution_count": 32,
   "metadata": {},
   "outputs": [
    {
     "data": {
      "image/png": "[encoded data removed]",
      "text/plain": [
       "<matplotlib.figure.Figure at 0x7f7a8eb1e780>"
      ]
     },
     "metadata": {},
     "output_type": "display_data"
    }
   ],
   "source": [
    "from mpl_toolkits.mplot3d import axes3d\n",
    "fig = plt.figure()\n",
    "ax = fig.add_subplot(111, projection='3d')\n",
    "\n",
    "b0_tiled = np.tile(b0_possible_values, (b1_n, 1))\n",
    "b1_tiled = np.tile(b1_possible_values, (b0_n, 1))\n",
    "likelihood_tile = b0_b1_likelihood[:, 2].reshape(b0_n, b1_n)\n",
    "\n",
    "# Grab some test data.\n",
    "X, Y, Z = axes3d.get_test_data(0.05)\n",
    "\n",
    "# Plot a basic wireframe.\n",
    "#ax.plot_wireframe(X, Y, Z, rstride=10, cstride=10)\n",
    "ax.plot_wireframe(b0_tiled, b1_tiled, likelihood_tile)\n",
    "\n",
    "plt.show()"
   ]
  },
  {
   "cell_type": "markdown",
   "metadata": {},
   "source": [
    "### II) D. Calculate the posterior with Bayes's rule"
   ]
  },
  {
   "cell_type": "markdown",
   "metadata": {},
   "source": [
    "Now that we've determined the joint prior distribution and the joint likelihood function, we can use Bayes's rule to calculate the joint posterior distribution."
   ]
  },
  {
   "cell_type": "code",
   "execution_count": 96,
   "metadata": {},
   "outputs": [
    {
     "data": {
      "text/html": [
       "<div>\n",
       "<style>\n",
       "    .dataframe thead tr:only-child th {\n",
       "        text-align: right;\n",
       "    }\n",
       "\n",
       "    .dataframe thead th {\n",
       "        text-align: left;\n",
       "    }\n",
       "\n",
       "    .dataframe tbody tr th {\n",
       "        vertical-align: top;\n",
       "    }\n",
       "</style>\n",
       "<table border=\"1\" class=\"dataframe\">\n",
       "  <thead>\n",
       "    <tr style=\"text-align: right;\">\n",
       "      <th></th>\n",
       "      <th>beta_0</th>\n",
       "      <th>beta_1</th>\n",
       "      <th>x=1</th>\n",
       "      <th>x=2</th>\n",
       "      <th>x=3</th>\n",
       "      <th>x=4</th>\n",
       "      <th>x=5</th>\n",
       "      <th>likelihood</th>\n",
       "      <th>posterior</th>\n",
       "    </tr>\n",
       "  </thead>\n",
       "  <tbody>\n",
       "    <tr>\n",
       "      <th>0</th>\n",
       "      <td>-1.0</td>\n",
       "      <td>1.00</td>\n",
       "      <td>0.00</td>\n",
       "      <td>1.0</td>\n",
       "      <td>2.00</td>\n",
       "      <td>3.0</td>\n",
       "      <td>4.00</td>\n",
       "      <td>9.626421e-15</td>\n",
       "      <td>6.158229e-13</td>\n",
       "    </tr>\n",
       "    <tr>\n",
       "      <th>1</th>\n",
       "      <td>-1.0</td>\n",
       "      <td>1.25</td>\n",
       "      <td>0.25</td>\n",
       "      <td>1.5</td>\n",
       "      <td>2.75</td>\n",
       "      <td>4.0</td>\n",
       "      <td>5.25</td>\n",
       "      <td>5.439089e-11</td>\n",
       "      <td>3.479503e-09</td>\n",
       "    </tr>\n",
       "    <tr>\n",
       "      <th>2</th>\n",
       "      <td>-1.0</td>\n",
       "      <td>1.50</td>\n",
       "      <td>0.50</td>\n",
       "      <td>2.0</td>\n",
       "      <td>3.50</td>\n",
       "      <td>5.0</td>\n",
       "      <td>6.50</td>\n",
       "      <td>9.734922e-06</td>\n",
       "      <td>6.227640e-04</td>\n",
       "    </tr>\n",
       "    <tr>\n",
       "      <th>3</th>\n",
       "      <td>-1.0</td>\n",
       "      <td>1.75</td>\n",
       "      <td>0.75</td>\n",
       "      <td>2.5</td>\n",
       "      <td>4.25</td>\n",
       "      <td>6.0</td>\n",
       "      <td>7.75</td>\n",
       "      <td>7.027992e-04</td>\n",
       "      <td>4.495958e-02</td>\n",
       "    </tr>\n",
       "    <tr>\n",
       "      <th>4</th>\n",
       "      <td>-1.0</td>\n",
       "      <td>2.00</td>\n",
       "      <td>1.00</td>\n",
       "      <td>3.0</td>\n",
       "      <td>5.00</td>\n",
       "      <td>7.0</td>\n",
       "      <td>9.00</td>\n",
       "      <td>2.612297e-04</td>\n",
       "      <td>1.671143e-02</td>\n",
       "    </tr>\n",
       "    <tr>\n",
       "      <th>5</th>\n",
       "      <td>-0.5</td>\n",
       "      <td>1.00</td>\n",
       "      <td>0.50</td>\n",
       "      <td>1.5</td>\n",
       "      <td>2.50</td>\n",
       "      <td>3.5</td>\n",
       "      <td>4.50</td>\n",
       "      <td>7.300197e-11</td>\n",
       "      <td>4.670094e-09</td>\n",
       "    </tr>\n",
       "    <tr>\n",
       "      <th>6</th>\n",
       "      <td>-0.5</td>\n",
       "      <td>1.25</td>\n",
       "      <td>0.75</td>\n",
       "      <td>2.0</td>\n",
       "      <td>3.25</td>\n",
       "      <td>4.5</td>\n",
       "      <td>5.75</td>\n",
       "      <td>2.301751e-07</td>\n",
       "      <td>1.472480e-05</td>\n",
       "    </tr>\n",
       "    <tr>\n",
       "      <th>7</th>\n",
       "      <td>-0.5</td>\n",
       "      <td>1.50</td>\n",
       "      <td>1.00</td>\n",
       "      <td>2.5</td>\n",
       "      <td>4.00</td>\n",
       "      <td>5.5</td>\n",
       "      <td>7.00</td>\n",
       "      <td>5.211130e-04</td>\n",
       "      <td>3.333672e-02</td>\n",
       "    </tr>\n",
       "    <tr>\n",
       "      <th>8</th>\n",
       "      <td>-0.5</td>\n",
       "      <td>1.75</td>\n",
       "      <td>1.25</td>\n",
       "      <td>3.0</td>\n",
       "      <td>4.75</td>\n",
       "      <td>6.5</td>\n",
       "      <td>8.25</td>\n",
       "      <td>1.081616e-03</td>\n",
       "      <td>6.919332e-02</td>\n",
       "    </tr>\n",
       "    <tr>\n",
       "      <th>9</th>\n",
       "      <td>-0.5</td>\n",
       "      <td>2.00</td>\n",
       "      <td>1.50</td>\n",
       "      <td>3.5</td>\n",
       "      <td>5.50</td>\n",
       "      <td>7.5</td>\n",
       "      <td>9.50</td>\n",
       "      <td>9.421658e-05</td>\n",
       "      <td>6.027238e-03</td>\n",
       "    </tr>\n",
       "    <tr>\n",
       "      <th>10</th>\n",
       "      <td>0.0</td>\n",
       "      <td>1.00</td>\n",
       "      <td>1.00</td>\n",
       "      <td>2.0</td>\n",
       "      <td>3.00</td>\n",
       "      <td>4.0</td>\n",
       "      <td>5.00</td>\n",
       "      <td>8.631090e-08</td>\n",
       "      <td>5.521495e-06</td>\n",
       "    </tr>\n",
       "    <tr>\n",
       "      <th>11</th>\n",
       "      <td>0.0</td>\n",
       "      <td>1.25</td>\n",
       "      <td>1.25</td>\n",
       "      <td>2.5</td>\n",
       "      <td>3.75</td>\n",
       "      <td>5.0</td>\n",
       "      <td>6.25</td>\n",
       "      <td>7.797379e-05</td>\n",
       "      <td>4.988152e-03</td>\n",
       "    </tr>\n",
       "    <tr>\n",
       "      <th>12</th>\n",
       "      <td>0.0</td>\n",
       "      <td>1.50</td>\n",
       "      <td>1.50</td>\n",
       "      <td>3.0</td>\n",
       "      <td>4.50</td>\n",
       "      <td>6.0</td>\n",
       "      <td>7.50</td>\n",
       "      <td>3.082396e-03</td>\n",
       "      <td>1.971875e-01</td>\n",
       "    </tr>\n",
       "    <tr>\n",
       "      <th>13</th>\n",
       "      <td>0.0</td>\n",
       "      <td>1.75</td>\n",
       "      <td>1.75</td>\n",
       "      <td>3.5</td>\n",
       "      <td>5.25</td>\n",
       "      <td>7.0</td>\n",
       "      <td>8.75</td>\n",
       "      <td>4.085955e-04</td>\n",
       "      <td>2.613874e-02</td>\n",
       "    </tr>\n",
       "    <tr>\n",
       "      <th>14</th>\n",
       "      <td>0.0</td>\n",
       "      <td>2.00</td>\n",
       "      <td>2.00</td>\n",
       "      <td>4.0</td>\n",
       "      <td>6.00</td>\n",
       "      <td>8.0</td>\n",
       "      <td>10.00</td>\n",
       "      <td>1.445456e-05</td>\n",
       "      <td>9.246894e-04</td>\n",
       "    </tr>\n",
       "    <tr>\n",
       "      <th>15</th>\n",
       "      <td>0.5</td>\n",
       "      <td>1.00</td>\n",
       "      <td>1.50</td>\n",
       "      <td>2.5</td>\n",
       "      <td>3.50</td>\n",
       "      <td>4.5</td>\n",
       "      <td>5.50</td>\n",
       "      <td>1.590956e-05</td>\n",
       "      <td>1.017769e-03</td>\n",
       "    </tr>\n",
       "    <tr>\n",
       "      <th>16</th>\n",
       "      <td>0.5</td>\n",
       "      <td>1.25</td>\n",
       "      <td>1.75</td>\n",
       "      <td>3.0</td>\n",
       "      <td>4.25</td>\n",
       "      <td>5.5</td>\n",
       "      <td>6.75</td>\n",
       "      <td>2.114449e-03</td>\n",
       "      <td>1.352659e-01</td>\n",
       "    </tr>\n",
       "    <tr>\n",
       "      <th>17</th>\n",
       "      <td>0.5</td>\n",
       "      <td>1.50</td>\n",
       "      <td>2.00</td>\n",
       "      <td>3.5</td>\n",
       "      <td>5.00</td>\n",
       "      <td>6.5</td>\n",
       "      <td>8.00</td>\n",
       "      <td>2.014661e-03</td>\n",
       "      <td>1.288822e-01</td>\n",
       "    </tr>\n",
       "    <tr>\n",
       "      <th>18</th>\n",
       "      <td>0.5</td>\n",
       "      <td>1.75</td>\n",
       "      <td>2.25</td>\n",
       "      <td>4.0</td>\n",
       "      <td>5.75</td>\n",
       "      <td>7.5</td>\n",
       "      <td>9.25</td>\n",
       "      <td>3.788720e-05</td>\n",
       "      <td>2.423726e-03</td>\n",
       "    </tr>\n",
       "    <tr>\n",
       "      <th>19</th>\n",
       "      <td>0.5</td>\n",
       "      <td>2.00</td>\n",
       "      <td>2.50</td>\n",
       "      <td>4.5</td>\n",
       "      <td>6.50</td>\n",
       "      <td>8.5</td>\n",
       "      <td>10.50</td>\n",
       "      <td>9.433116e-07</td>\n",
       "      <td>6.034568e-05</td>\n",
       "    </tr>\n",
       "    <tr>\n",
       "      <th>20</th>\n",
       "      <td>1.0</td>\n",
       "      <td>1.00</td>\n",
       "      <td>2.00</td>\n",
       "      <td>3.0</td>\n",
       "      <td>4.00</td>\n",
       "      <td>5.0</td>\n",
       "      <td>6.00</td>\n",
       "      <td>4.572058e-04</td>\n",
       "      <td>2.924844e-02</td>\n",
       "    </tr>\n",
       "    <tr>\n",
       "      <th>21</th>\n",
       "      <td>1.0</td>\n",
       "      <td>1.25</td>\n",
       "      <td>2.25</td>\n",
       "      <td>3.5</td>\n",
       "      <td>4.75</td>\n",
       "      <td>6.0</td>\n",
       "      <td>7.25</td>\n",
       "      <td>4.589907e-03</td>\n",
       "      <td>2.936263e-01</td>\n",
       "    </tr>\n",
       "    <tr>\n",
       "      <th>22</th>\n",
       "      <td>1.0</td>\n",
       "      <td>1.50</td>\n",
       "      <td>2.50</td>\n",
       "      <td>4.0</td>\n",
       "      <td>5.50</td>\n",
       "      <td>7.0</td>\n",
       "      <td>8.50</td>\n",
       "      <td>1.455032e-04</td>\n",
       "      <td>9.308153e-03</td>\n",
       "    </tr>\n",
       "    <tr>\n",
       "      <th>23</th>\n",
       "      <td>1.0</td>\n",
       "      <td>1.75</td>\n",
       "      <td>2.75</td>\n",
       "      <td>4.5</td>\n",
       "      <td>6.25</td>\n",
       "      <td>8.0</td>\n",
       "      <td>9.75</td>\n",
       "      <td>8.623227e-07</td>\n",
       "      <td>5.516464e-05</td>\n",
       "    </tr>\n",
       "    <tr>\n",
       "      <th>24</th>\n",
       "      <td>1.0</td>\n",
       "      <td>2.00</td>\n",
       "      <td>3.00</td>\n",
       "      <td>5.0</td>\n",
       "      <td>7.00</td>\n",
       "      <td>9.0</td>\n",
       "      <td>11.00</td>\n",
       "      <td>2.618654e-08</td>\n",
       "      <td>1.675210e-06</td>\n",
       "    </tr>\n",
       "  </tbody>\n",
       "</table>\n",
       "</div>"
      ],
      "text/plain": [
       "    beta_0  beta_1   x=1  x=2   x=3  x=4    x=5    likelihood     posterior\n",
       "0     -1.0    1.00  0.00  1.0  2.00  3.0   4.00  9.626421e-15  6.158229e-13\n",
       "1     -1.0    1.25  0.25  1.5  2.75  4.0   5.25  5.439089e-11  3.479503e-09\n",
       "2     -1.0    1.50  0.50  2.0  3.50  5.0   6.50  9.734922e-06  6.227640e-04\n",
       "3     -1.0    1.75  0.75  2.5  4.25  6.0   7.75  7.027992e-04  4.495958e-02\n",
       "4     -1.0    2.00  1.00  3.0  5.00  7.0   9.00  2.612297e-04  1.671143e-02\n",
       "5     -0.5    1.00  0.50  1.5  2.50  3.5   4.50  7.300197e-11  4.670094e-09\n",
       "6     -0.5    1.25  0.75  2.0  3.25  4.5   5.75  2.301751e-07  1.472480e-05\n",
       "7     -0.5    1.50  1.00  2.5  4.00  5.5   7.00  5.211130e-04  3.333672e-02\n",
       "8     -0.5    1.75  1.25  3.0  4.75  6.5   8.25  1.081616e-03  6.919332e-02\n",
       "9     -0.5    2.00  1.50  3.5  5.50  7.5   9.50  9.421658e-05  6.027238e-03\n",
       "10     0.0    1.00  1.00  2.0  3.00  4.0   5.00  8.631090e-08  5.521495e-06\n",
       "11     0.0    1.25  1.25  2.5  3.75  5.0   6.25  7.797379e-05  4.988152e-03\n",
       "12     0.0    1.50  1.50  3.0  4.50  6.0   7.50  3.082396e-03  1.971875e-01\n",
       "13     0.0    1.75  1.75  3.5  5.25  7.0   8.75  4.085955e-04  2.613874e-02\n",
       "14     0.0    2.00  2.00  4.0  6.00  8.0  10.00  1.445456e-05  9.246894e-04\n",
       "15     0.5    1.00  1.50  2.5  3.50  4.5   5.50  1.590956e-05  1.017769e-03\n",
       "16     0.5    1.25  1.75  3.0  4.25  5.5   6.75  2.114449e-03  1.352659e-01\n",
       "17     0.5    1.50  2.00  3.5  5.00  6.5   8.00  2.014661e-03  1.288822e-01\n",
       "18     0.5    1.75  2.25  4.0  5.75  7.5   9.25  3.788720e-05  2.423726e-03\n",
       "19     0.5    2.00  2.50  4.5  6.50  8.5  10.50  9.433116e-07  6.034568e-05\n",
       "20     1.0    1.00  2.00  3.0  4.00  5.0   6.00  4.572058e-04  2.924844e-02\n",
       "21     1.0    1.25  2.25  3.5  4.75  6.0   7.25  4.589907e-03  2.936263e-01\n",
       "22     1.0    1.50  2.50  4.0  5.50  7.0   8.50  1.455032e-04  9.308153e-03\n",
       "23     1.0    1.75  2.75  4.5  6.25  8.0   9.75  8.623227e-07  5.516464e-05\n",
       "24     1.0    2.00  3.00  5.0  7.00  9.0  11.00  2.618654e-08  1.675210e-06"
      ]
     },
     "execution_count": 96,
     "metadata": {},
     "output_type": "execute_result"
    }
   ],
   "source": [
    "b0_b1_posterior_unscaled = b0_b1_joint_prior_flat[:, 2] * likelihood\n",
    "b0_b1_posterior = b0_b1_posterior_unscaled / np.sum(b0_b1_posterior_unscaled)\n",
    "\n",
    "b0_b1_posterior_df = pd.DataFrame(b0_b1_posterior,\n",
    "                                  columns=['posterior'])\n",
    "\n",
    "overall_df = pd.concat((overall_df, b0_b1_posterior_df), axis=1, ignore_index=False)\n",
    "overall_df"
   ]
  },
  {
   "cell_type": "markdown",
   "metadata": {},
   "source": [
    "In the table above, we've added a new column showing the posterior probabilities for every possible combination of $\\beta_0$ and $\\beta_1$.  The plot below shows the same thing:"
   ]
  },
  {
   "cell_type": "code",
   "execution_count": 34,
   "metadata": {},
   "outputs": [
    {
     "data": {
      "image/png": "[encoded data removed]",
      "text/plain": [
       "<matplotlib.figure.Figure at 0x7f7a8eac9940>"
      ]
     },
     "metadata": {},
     "output_type": "display_data"
    }
   ],
   "source": [
    "b0_b1_posterior_2 = np.concatenate((\n",
    "    b0_b1_combos, b0_b1_posterior.reshape(-1, 1)), axis=1)\n",
    "\n",
    "fig = plt.figure()\n",
    "ax = Axes3D(fig)\n",
    "ax.set_xlabel('beta_0')\n",
    "ax.set_ylabel('beta_1')\n",
    "ax.scatter(b0_b1_posterior_2[:, 0],\n",
    "           b0_b1_posterior_2[:, 1],\n",
    "           b0_b1_posterior_2[:, 2],)\n",
    "plt.show()"
   ]
  },
  {
   "cell_type": "markdown",
   "metadata": {},
   "source": [
    "Notice again that because we set a flat joint prior, the joint posterior distribution has the same shape as the joint likelihood.  Only the scale is different between the likelihood and the posterior distribution."
   ]
  },
  {
   "cell_type": "markdown",
   "metadata": {},
   "source": [
    "If we calculated our scaling factor correctly, then all the probabilities of the posterior distribution should add up to $1$.  And they do:"
   ]
  },
  {
   "cell_type": "code",
   "execution_count": 35,
   "metadata": {},
   "outputs": [
    {
     "data": {
      "text/plain": [
       "1.0000000000000002"
      ]
     },
     "execution_count": 35,
     "metadata": {},
     "output_type": "execute_result"
    }
   ],
   "source": [
    "sum(b0_b1_posterior)"
   ]
  },
  {
   "cell_type": "markdown",
   "metadata": {},
   "source": [
    "### II) E. Plot regression line"
   ]
  },
  {
   "cell_type": "markdown",
   "metadata": {},
   "source": [
    "Below is the plot of our data and the single most probable regression line (in blue), based on our joint posterior distribution where $\\beta_0 = 1$ and $\\beta_1 = 1.25$.  The red regression line is from our previous model where we set $\\beta_0 = 0$ and calculated the posterior distribution only for $\\beta_1$, where $1.5$ was the most probable value:"
   ]
  },
  {
   "cell_type": "code",
   "execution_count": 133,
   "metadata": {},
   "outputs": [
    {
     "name": "stderr",
     "output_type": "stream",
     "text": [
      "/home/zh/anaconda3/envs/jupyter_plot_stan/lib/python3.6/site-packages/matplotlib/pyplot.py:524: RuntimeWarning: More than 20 figures have been opened. Figures created through the pyplot interface (`matplotlib.pyplot.figure`) are retained until explicitly closed and may consume too much memory. (To control this warning, see the rcParam `figure.max_open_warning`).\n",
      "  max_open_warning, RuntimeWarning)\n"
     ]
    },
    {
     "data": {
      "image/png": "[encoded data removed]",
      "text/plain": [
       "<matplotlib.figure.Figure at 0x7f7a6da8b6a0>"
      ]
     },
     "execution_count": 133,
     "metadata": {},
     "output_type": "execute_result"
    }
   ],
   "source": [
    "model_b0_1 = 0\n",
    "model_b1_1 = 1.5\n",
    "\n",
    "model_b0_2 = 1\n",
    "model_b1_2 = 1.25\n",
    "\n",
    "grid = sns.JointGrid(data_1['x'], data_1['y'])\n",
    "grid.plot_joint(plt.scatter)\n",
    "plt.xlim(xmin=0)\n",
    "plt.ylim(ymin=0)\n",
    "grid.ax_joint.plot([0, max(x)], [model_b0_2, max(x)*model_b1_2], 'b-', linewidth=2)\n",
    "grid.ax_joint.plot([0, max(x)], [model_b0_1, max(x)*model_b1_1], 'r-', linewidth=2)\n",
    "grid.fig"
   ]
  },
  {
   "cell_type": "markdown",
   "metadata": {},
   "source": [
    "### II) F. Look at the marginal posterior distributions of each parameter"
   ]
  },
  {
   "cell_type": "markdown",
   "metadata": {},
   "source": [
    "If we want to look at the posterior distribution of each parameter, we can use the marginal probabilities.  For $\\beta_0$:"
   ]
  },
  {
   "cell_type": "code",
   "execution_count": 37,
   "metadata": {},
   "outputs": [
    {
     "data": {
      "text/html": [
       "<div>\n",
       "<style>\n",
       "    .dataframe thead tr:only-child th {\n",
       "        text-align: right;\n",
       "    }\n",
       "\n",
       "    .dataframe thead th {\n",
       "        text-align: left;\n",
       "    }\n",
       "\n",
       "    .dataframe tbody tr th {\n",
       "        vertical-align: top;\n",
       "    }\n",
       "</style>\n",
       "<table border=\"1\" class=\"dataframe\">\n",
       "  <thead>\n",
       "    <tr style=\"text-align: right;\">\n",
       "      <th></th>\n",
       "      <th>beta_0</th>\n",
       "      <th>posterior</th>\n",
       "    </tr>\n",
       "  </thead>\n",
       "  <tbody>\n",
       "    <tr>\n",
       "      <th>0</th>\n",
       "      <td>-1.0</td>\n",
       "      <td>0.062294</td>\n",
       "    </tr>\n",
       "    <tr>\n",
       "      <th>1</th>\n",
       "      <td>-0.5</td>\n",
       "      <td>0.108572</td>\n",
       "    </tr>\n",
       "    <tr>\n",
       "      <th>2</th>\n",
       "      <td>0.0</td>\n",
       "      <td>0.229245</td>\n",
       "    </tr>\n",
       "    <tr>\n",
       "      <th>3</th>\n",
       "      <td>0.5</td>\n",
       "      <td>0.267650</td>\n",
       "    </tr>\n",
       "    <tr>\n",
       "      <th>4</th>\n",
       "      <td>1.0</td>\n",
       "      <td>0.332240</td>\n",
       "    </tr>\n",
       "  </tbody>\n",
       "</table>\n",
       "</div>"
      ],
      "text/plain": [
       "   beta_0  posterior\n",
       "0    -1.0   0.062294\n",
       "1    -0.5   0.108572\n",
       "2     0.0   0.229245\n",
       "3     0.5   0.267650\n",
       "4     1.0   0.332240"
      ]
     },
     "execution_count": 37,
     "metadata": {},
     "output_type": "execute_result"
    }
   ],
   "source": [
    "b0_b1_posterior_2_df = pd.DataFrame(b0_b1_posterior_2,\n",
    "                                  index=parameter_names,\n",
    "                                  columns=['beta_0', 'beta_1', 'posterior'])\n",
    "\n",
    "b0_posterior_df = (b0_b1_posterior_2_df.drop(['beta_1'], axis=1)\n",
    "                   .groupby('beta_0')\n",
    "                   .sum()\n",
    "                   .reset_index())\n",
    "b0_posterior_df"
   ]
  },
  {
   "cell_type": "markdown",
   "metadata": {},
   "source": [
    "Even though we generated the data with $\\beta_0 = 0$, the most probable value for $\\beta_0$ (out of the possible values that we allowed) based on the data is $1$.  The table above shows this, as does the corresponding plot below:"
   ]
  },
  {
   "cell_type": "code",
   "execution_count": 38,
   "metadata": {},
   "outputs": [
    {
     "data": {
      "image/png": "[encoded data removed]",
      "text/plain": [
       "<matplotlib.figure.Figure at 0x7f7a8ec4f048>"
      ]
     },
     "execution_count": 38,
     "metadata": {},
     "output_type": "execute_result"
    }
   ],
   "source": [
    "b0_posterior_plot = sns.lmplot(x='beta_0',\n",
    "                               y='posterior',\n",
    "                               data=b0_posterior_df,\n",
    "                               fit_reg=False)\n",
    "b0_posterior_plot.fig"
   ]
  },
  {
   "cell_type": "markdown",
   "metadata": {},
   "source": [
    "All the marginal posterior probabilities for $\\beta_0$ should sum to $1$, and they do:"
   ]
  },
  {
   "cell_type": "code",
   "execution_count": 39,
   "metadata": {},
   "outputs": [
    {
     "data": {
      "text/plain": [
       "1.0000000000000002"
      ]
     },
     "execution_count": 39,
     "metadata": {},
     "output_type": "execute_result"
    }
   ],
   "source": [
    "b0_posterior_df.loc[:, 'posterior'].sum()"
   ]
  },
  {
   "cell_type": "markdown",
   "metadata": {},
   "source": [
    "Now let's look at the marginal posterior distribution for $\\beta_1$:"
   ]
  },
  {
   "cell_type": "code",
   "execution_count": 40,
   "metadata": {},
   "outputs": [
    {
     "data": {
      "text/html": [
       "<div>\n",
       "<style>\n",
       "    .dataframe thead tr:only-child th {\n",
       "        text-align: right;\n",
       "    }\n",
       "\n",
       "    .dataframe thead th {\n",
       "        text-align: left;\n",
       "    }\n",
       "\n",
       "    .dataframe tbody tr th {\n",
       "        vertical-align: top;\n",
       "    }\n",
       "</style>\n",
       "<table border=\"1\" class=\"dataframe\">\n",
       "  <thead>\n",
       "    <tr style=\"text-align: right;\">\n",
       "      <th></th>\n",
       "      <th>beta_1</th>\n",
       "      <th>posterior</th>\n",
       "    </tr>\n",
       "  </thead>\n",
       "  <tbody>\n",
       "    <tr>\n",
       "      <th>0</th>\n",
       "      <td>1.00</td>\n",
       "      <td>0.030272</td>\n",
       "    </tr>\n",
       "    <tr>\n",
       "      <th>1</th>\n",
       "      <td>1.25</td>\n",
       "      <td>0.433895</td>\n",
       "    </tr>\n",
       "    <tr>\n",
       "      <th>2</th>\n",
       "      <td>1.50</td>\n",
       "      <td>0.369337</td>\n",
       "    </tr>\n",
       "    <tr>\n",
       "      <th>3</th>\n",
       "      <td>1.75</td>\n",
       "      <td>0.142771</td>\n",
       "    </tr>\n",
       "    <tr>\n",
       "      <th>4</th>\n",
       "      <td>2.00</td>\n",
       "      <td>0.023725</td>\n",
       "    </tr>\n",
       "  </tbody>\n",
       "</table>\n",
       "</div>"
      ],
      "text/plain": [
       "   beta_1  posterior\n",
       "0    1.00   0.030272\n",
       "1    1.25   0.433895\n",
       "2    1.50   0.369337\n",
       "3    1.75   0.142771\n",
       "4    2.00   0.023725"
      ]
     },
     "execution_count": 40,
     "metadata": {},
     "output_type": "execute_result"
    }
   ],
   "source": [
    "b1_posterior_df = (b0_b1_posterior_2_df.drop(['beta_0'], axis=1)\n",
    "                   .groupby('beta_1')\n",
    "                   .sum()\n",
    "                   .reset_index())\n",
    "b1_posterior_df"
   ]
  },
  {
   "cell_type": "markdown",
   "metadata": {},
   "source": [
    "Even though we generated the data with $\\beta_1 = 1.5$, the most probable value for $\\beta_1$ (out of the possible values that we allowed) based on the data is $1.25$.  The table above shows this, as does the corresponding plot below:"
   ]
  },
  {
   "cell_type": "code",
   "execution_count": 41,
   "metadata": {},
   "outputs": [
    {
     "data": {
      "image/png": "[encoded data removed]",
      "text/plain": [
       "<matplotlib.figure.Figure at 0x7f7a8ceeda90>"
      ]
     },
     "execution_count": 41,
     "metadata": {},
     "output_type": "execute_result"
    }
   ],
   "source": [
    "b1_posterior_plot = sns.lmplot(x='beta_1',\n",
    "                               y='posterior',\n",
    "                               data=b1_posterior_df,\n",
    "                               fit_reg=False)\n",
    "b1_posterior_plot.fig"
   ]
  },
  {
   "cell_type": "markdown",
   "metadata": {},
   "source": [
    "All the marginal posterior probabilities for $\\beta_1$ should sum to $1$, and they do:"
   ]
  },
  {
   "cell_type": "code",
   "execution_count": 42,
   "metadata": {},
   "outputs": [
    {
     "data": {
      "text/plain": [
       "1.0000000000000002"
      ]
     },
     "execution_count": 42,
     "metadata": {},
     "output_type": "execute_result"
    }
   ],
   "source": [
    "b1_posterior_df.loc[:, 'posterior'].sum()"
   ]
  },
  {
   "cell_type": "markdown",
   "metadata": {},
   "source": [
    "## Part III.  Continuous distributions, 2 parameters"
   ]
  },
  {
   "cell_type": "markdown",
   "metadata": {},
   "source": [
    "We've now seen a regression problem where we had to calculate the posterior distributions for two parameters, the $y$-intercept of the regression line $\\beta_0$ and the slope of the line $\\beta_1$.  To simplify the regression problems above, we allowed only a few discrete values over a limited range for each parameter.  Now we're going to make the problem a bit more realistic by switching to continuous distributions for our parameters, but we're going to retain the limited ranges so that the problem is similar to the one above."
   ]
  },
  {
   "cell_type": "markdown",
   "metadata": {
    "collapsed": true
   },
   "source": [
    "Of course, now the calculations will be more complicated.  With a continuous distribution, we now have an infinite number of possible parameter values, so we can't simply multiply the prior and likelihood for every possible parameter value as we did for discrete distributions.  Now we'll need calculus or sampling to figure out the scaling factor in Bayes's rule:"
   ]
  },
  {
   "cell_type": "markdown",
   "metadata": {},
   "source": [
    "$$posterior = \\frac{likelihood \\ x \\ prior}{scaling \\ factor}$$"
   ]
  },
  {
   "cell_type": "markdown",
   "metadata": {},
   "source": [
    "To handle these complications, we're going to switch to using [Stan](http://mc-stan.org/), which is a probabilistic programming language that interfaces with Python via a package called [PyStan](https://pystan.readthedocs.io/en/latest/).  Stan will handle the sampling automatically, so we're not going to concern ourselves with it any further here."
   ]
  },
  {
   "cell_type": "markdown",
   "metadata": {},
   "source": [
    "### III) A. Generated data"
   ]
  },
  {
   "cell_type": "markdown",
   "metadata": {},
   "source": [
    "We'll use the same data that we generated previously, based on the same parameters where $\\beta_0 = 0$ and $\\beta_1 = 1.5$:"
   ]
  },
  {
   "cell_type": "code",
   "execution_count": 43,
   "metadata": {},
   "outputs": [
    {
     "data": {
      "text/html": [
       "<div>\n",
       "<style>\n",
       "    .dataframe thead tr:only-child th {\n",
       "        text-align: right;\n",
       "    }\n",
       "\n",
       "    .dataframe thead th {\n",
       "        text-align: left;\n",
       "    }\n",
       "\n",
       "    .dataframe tbody tr th {\n",
       "        vertical-align: top;\n",
       "    }\n",
       "</style>\n",
       "<table border=\"1\" class=\"dataframe\">\n",
       "  <thead>\n",
       "    <tr style=\"text-align: right;\">\n",
       "      <th></th>\n",
       "      <th>x</th>\n",
       "      <th>y</th>\n",
       "    </tr>\n",
       "  </thead>\n",
       "  <tbody>\n",
       "    <tr>\n",
       "      <th>0</th>\n",
       "      <td>1</td>\n",
       "      <td>1.609501</td>\n",
       "    </tr>\n",
       "    <tr>\n",
       "      <th>1</th>\n",
       "      <td>2</td>\n",
       "      <td>3.118044</td>\n",
       "    </tr>\n",
       "    <tr>\n",
       "      <th>2</th>\n",
       "      <td>3</td>\n",
       "      <td>5.491070</td>\n",
       "    </tr>\n",
       "    <tr>\n",
       "      <th>3</th>\n",
       "      <td>4</td>\n",
       "      <td>6.734883</td>\n",
       "    </tr>\n",
       "    <tr>\n",
       "      <th>4</th>\n",
       "      <td>5</td>\n",
       "      <td>6.313860</td>\n",
       "    </tr>\n",
       "  </tbody>\n",
       "</table>\n",
       "</div>"
      ],
      "text/plain": [
       "   x         y\n",
       "0  1  1.609501\n",
       "1  2  3.118044\n",
       "2  3  5.491070\n",
       "3  4  6.734883\n",
       "4  5  6.313860"
      ]
     },
     "execution_count": 43,
     "metadata": {},
     "output_type": "execute_result"
    }
   ],
   "source": [
    "data_1"
   ]
  },
  {
   "cell_type": "code",
   "execution_count": 44,
   "metadata": {},
   "outputs": [
    {
     "data": {
      "image/png": "[encoded data removed]",
      "text/plain": [
       "<matplotlib.figure.Figure at 0x7f7a92dd55f8>"
      ]
     },
     "execution_count": 44,
     "metadata": {},
     "output_type": "execute_result"
    }
   ],
   "source": [
    "data1_plot.fig"
   ]
  },
  {
   "cell_type": "markdown",
   "metadata": {},
   "source": [
    "### III) B. Linear regression in Stan"
   ]
  },
  {
   "cell_type": "markdown",
   "metadata": {},
   "source": [
    "Let's specify our linear regression model in Stan.  Stan programs are organized into blocks of code.  Each block describes different kinds of variables.  We'll save each block into a separate Python string, so that we can conveniently discuss each one in turn."
   ]
  },
  {
   "cell_type": "markdown",
   "metadata": {},
   "source": [
    "We start with the data block, where we'll tell Stan what variables we'll pass to it from Python.  In this case, the variables are our predictor variable $x$, our response variable $y$, and the number of data points in each of them $N$.  Notice that $N$ can't be any less than zero, so we set zero as its lower bound:"
   ]
  },
  {
   "cell_type": "code",
   "execution_count": 45,
   "metadata": {
    "collapsed": true
   },
   "outputs": [],
   "source": [
    "data_block = '''\n",
    "data {\n",
    "  int<lower=0> N;\n",
    "  vector[N] x;\n",
    "  vector[N] y;\n",
    "}\n",
    "'''"
   ]
  },
  {
   "cell_type": "markdown",
   "metadata": {},
   "source": [
    "While we're thinking about it, let's go ahead and put those corresponding Python variables into a dictionary that we can pass to Stan:"
   ]
  },
  {
   "cell_type": "code",
   "execution_count": 46,
   "metadata": {
    "collapsed": true
   },
   "outputs": [],
   "source": [
    "data_block_variables = {'N': n,\n",
    "                        'x': x,\n",
    "                        'y': y}"
   ]
  },
  {
   "cell_type": "markdown",
   "metadata": {},
   "source": [
    "Next we specify the parameters for our linear regression model:"
   ]
  },
  {
   "cell_type": "markdown",
   "metadata": {},
   "source": [
    "$$y_i = \\beta_0 + \\beta_1 x_i + \\epsilon_i$$"
   ]
  },
  {
   "cell_type": "markdown",
   "metadata": {},
   "source": [
    "The parameters are $\\beta_0$, $\\beta_1$, and $\\sigma$, which is the standard deviation of the errors represented by $\\epsilon_i$.  As in our previous problem with the discrete distributions, we restrict $\\beta_0$ to a range from $-1$ to $1$ and $\\beta_1$ to a range from $1$ to $2$.  Notice that we restrict $\\sigma$ to be zero or above, because standard deviation cannot be negative:"
   ]
  },
  {
   "cell_type": "code",
   "execution_count": 47,
   "metadata": {
    "collapsed": true
   },
   "outputs": [],
   "source": [
    "parameters_block = '''\n",
    "parameters {\n",
    "  real<lower=-1, upper=1> beta_0;\n",
    "  real<lower=1, upper=2> beta_1;\n",
    "  real<lower=0> sigma;\n",
    "}\n",
    "'''"
   ]
  },
  {
   "cell_type": "markdown",
   "metadata": {},
   "source": [
    "Finally, we specify the model itself.  The response variable $y$ is normally distributed with a mean and standard deviation as its two parameters.  The mean is predicted from our linear regression model, which depends on the parameters $\\beta_0$ and $\\beta_1$.  The standard deviation is denoted as $\\sigma$.  We can also specify the prior distributions for $\\beta_0$, $\\beta_1$, and $\\sigma$ here.  If we don't explicitly specify prior distributions for these parameters, Stan will choose a default uninformative \"flat\" prior for us."
   ]
  },
  {
   "cell_type": "code",
   "execution_count": 48,
   "metadata": {
    "collapsed": true
   },
   "outputs": [],
   "source": [
    "model_block = '''\n",
    "model {\n",
    "  y ~ normal(x * beta_1 + beta_0, sigma);\n",
    "}\n",
    "'''"
   ]
  },
  {
   "cell_type": "markdown",
   "metadata": {},
   "source": [
    "Now that our Stan program is specified, we can run it!"
   ]
  },
  {
   "cell_type": "code",
   "execution_count": 49,
   "metadata": {
    "scrolled": true
   },
   "outputs": [
    {
     "name": "stderr",
     "output_type": "stream",
     "text": [
      "INFO:pystan:COMPILING THE C++ CODE FOR MODEL anon_model_765761058c29d104a20a7fb6cff8da77 NOW.\n"
     ]
    }
   ],
   "source": [
    "stan_regress = pystan.stan(model_code=data_block + parameters_block + model_block,\n",
    "                           data=data_block_variables,\n",
    "                           seed=2230732,\n",
    "                           chains=2,\n",
    "                           iter=1000,\n",
    "                           warmup=200,\n",
    "                           verbose=False)"
   ]
  },
  {
   "cell_type": "markdown",
   "metadata": {},
   "source": [
    "The plots on the left-hand side below show the posterior distributions for $\\beta_0$, $\\beta_1$, and $\\sigma$.  The plots on the right-hand side show traces of the sampling for each posterior distribution.  These traces (which exclude the warmup period) should be fairly stable; there shouldn't be any consistent upward or downward trends."
   ]
  },
  {
   "cell_type": "code",
   "execution_count": 115,
   "metadata": {
    "scrolled": false
   },
   "outputs": [
    {
     "data": {
      "image/png": "[encoded data removed]",
      "text/plain": [
       "<matplotlib.figure.Figure at 0x7f7a70e56828>"
      ]
     },
     "execution_count": 115,
     "metadata": {},
     "output_type": "execute_result"
    }
   ],
   "source": [
    "stan_regress.plot()"
   ]
  },
  {
   "cell_type": "markdown",
   "metadata": {},
   "source": [
    "The posterior distributions in the left-hand plots above are summarized in the table below.  In our previous model where we allowed only discrete distributions for the parameters, we decided that $\\beta_0 = 1$ and $\\beta_1 = 1.25$ provided our single best regression line.  Switching to continuous distributions for our current model makes some difference compared to our previous model, but the results look roughly similar.  The posterior distribution for $\\beta_0$ appears to peak around $0.7$ (a value that we didn't allow previously) rather than $1$, but those are fairly close.  The posterior distribution for $\\beta_1$ appears to peak around $1.4$, which isn't that different from $1.25$."
   ]
  },
  {
   "cell_type": "code",
   "execution_count": 51,
   "metadata": {
    "scrolled": true
   },
   "outputs": [
    {
     "data": {
      "text/plain": [
       "Inference for Stan model: anon_model_765761058c29d104a20a7fb6cff8da77.\n",
       "2 chains, each with iter=1000; warmup=200; thin=1; \n",
       "post-warmup draws per chain=800, total post-warmup draws=1600.\n",
       "\n",
       "         mean se_mean     sd   2.5%    25%    50%    75%  97.5%  n_eff   Rhat\n",
       "beta_0   0.17    0.02   0.53  -0.89  -0.22   0.24   0.61   0.93    758    1.0\n",
       "beta_1   1.46  7.2e-3    0.2   1.11   1.32   1.45    1.6   1.85    750    1.0\n",
       "sigma    1.27    0.03   0.73   0.54    0.8   1.07   1.49    3.3    572   1.01\n",
       "lp__    -5.36    0.07   1.47   -8.8  -6.17  -4.99  -4.22  -3.51    412   1.01\n",
       "\n",
       "Samples were drawn using NUTS at Wed Apr 18 13:38:36 2018.\n",
       "For each parameter, n_eff is a crude measure of effective sample size,\n",
       "and Rhat is the potential scale reduction factor on split chains (at \n",
       "convergence, Rhat=1)."
      ]
     },
     "execution_count": 51,
     "metadata": {},
     "output_type": "execute_result"
    }
   ],
   "source": [
    "stan_regress"
   ]
  },
  {
   "cell_type": "markdown",
   "metadata": {},
   "source": [
    "### III) C. Plot regression lines"
   ]
  },
  {
   "cell_type": "markdown",
   "metadata": {},
   "source": [
    "Below is the plot of our data.  It now has three regression lines:\n",
    "\n",
    "1. Red:  $\\beta_0 = 0$, $\\beta_1 = 1.5$, from our first model where we calculated a discrete distribution only for $\\beta_1$\n",
    "2. Blue:  $\\beta_0 = 1$, $\\beta_1 = 1.25$, from our second model where we calculated discrete distributions for $\\beta_0$ and $\\beta_1$\n",
    "3. Green:  $\\beta_0 = 0.17$, $\\beta_1 = 1.46$, from our current Stan model where we calculated continuous distributions for $\\beta_0$ and $\\beta_1$"
   ]
  },
  {
   "cell_type": "code",
   "execution_count": 134,
   "metadata": {
    "scrolled": false
   },
   "outputs": [
    {
     "name": "stderr",
     "output_type": "stream",
     "text": [
      "/home/zh/anaconda3/envs/jupyter_plot_stan/lib/python3.6/site-packages/matplotlib/pyplot.py:524: RuntimeWarning: More than 20 figures have been opened. Figures created through the pyplot interface (`matplotlib.pyplot.figure`) are retained until explicitly closed and may consume too much memory. (To control this warning, see the rcParam `figure.max_open_warning`).\n",
      "  max_open_warning, RuntimeWarning)\n"
     ]
    },
    {
     "data": {
      "image/png": "[encoded data removed]",
      "text/plain": [
       "<matplotlib.figure.Figure at 0x7f7a708da240>"
      ]
     },
     "execution_count": 134,
     "metadata": {},
     "output_type": "execute_result"
    }
   ],
   "source": [
    "model_b0_1 = 0\n",
    "model_b1_1 = 1.5\n",
    "\n",
    "model_b0_2 = 1\n",
    "model_b1_2 = 1.25\n",
    "\n",
    "model_b0_3 = stan_regress.summary()['summary'][0, 0]\n",
    "model_b1_3 = stan_regress.summary()['summary'][1, 0]\n",
    "\n",
    "grid = sns.JointGrid(data_1['x'], data_1['y'])\n",
    "grid.plot_joint(plt.scatter)\n",
    "plt.xlim(xmin=0)\n",
    "plt.ylim(ymin=0)\n",
    "grid.ax_joint.plot([0, max(x)], [model_b0_2, max(x)*model_b1_2], 'b-', linewidth=2)\n",
    "grid.ax_joint.plot([0, max(x)], [model_b0_1, max(x)*model_b1_1], 'r-', linewidth=2)\n",
    "grid.ax_joint.plot([0, max(x)], [model_b0_3, max(x)*model_b1_3], 'g-', linewidth=2)\n",
    "grid.fig"
   ]
  },
  {
   "cell_type": "markdown",
   "metadata": {},
   "source": [
    "However, plotting only the single best regression line from our model leaves out a lot of information.  With full posterior distributions of our parameters -- not just point estimates of our parameters -- we can get a probabilistic idea of the full range of possible regression lines.  We can do that by sampling our parameters and plotting the resulting lines."
   ]
  },
  {
   "cell_type": "code",
   "execution_count": 53,
   "metadata": {
    "collapsed": true
   },
   "outputs": [],
   "source": [
    "beta_0s = stan_regress.extract(permuted=True)['beta_0']\n",
    "beta_1s = stan_regress.extract(permuted=True)['beta_1']\n",
    "\n",
    "regress_lines_n = 500\n",
    "\n",
    "beta_0s_sample = np.random.choice(beta_0s, regress_lines_n)\n",
    "beta_1s_sample = np.random.choice(beta_1s, regress_lines_n)"
   ]
  },
  {
   "cell_type": "code",
   "execution_count": 135,
   "metadata": {},
   "outputs": [
    {
     "name": "stderr",
     "output_type": "stream",
     "text": [
      "/home/zh/anaconda3/envs/jupyter_plot_stan/lib/python3.6/site-packages/matplotlib/pyplot.py:524: RuntimeWarning: More than 20 figures have been opened. Figures created through the pyplot interface (`matplotlib.pyplot.figure`) are retained until explicitly closed and may consume too much memory. (To control this warning, see the rcParam `figure.max_open_warning`).\n",
      "  max_open_warning, RuntimeWarning)\n"
     ]
    },
    {
     "data": {
      "image/png": "[encoded data removed]",
      "text/plain": [
       "<matplotlib.figure.Figure at 0x7f7a6d7a6a20>"
      ]
     },
     "execution_count": 135,
     "metadata": {},
     "output_type": "execute_result"
    }
   ],
   "source": [
    "model_b0_1 = 0\n",
    "model_b1_1 = 1.5\n",
    "\n",
    "model_b0_2 = 1\n",
    "model_b1_2 = 1.25\n",
    "\n",
    "grid = sns.JointGrid(data_1['x'], data_1['y'])\n",
    "grid.plot_joint(plt.scatter)\n",
    "plt.xlim(xmin=0)\n",
    "plt.ylim(ymin=0)\n",
    "grid.ax_joint.plot([0, max(x)], [model_b0_2, max(x)*model_b1_2], 'b-', linewidth=2)\n",
    "grid.ax_joint.plot([0, max(x)], [model_b0_1, max(x)*model_b1_1], 'r-', linewidth=2)\n",
    "for i in range(regress_lines_n):\n",
    "    model_b0_3 = beta_0s_sample[i]\n",
    "    model_b1_3 = beta_1s_sample[i]\n",
    "    grid.ax_joint.plot([0, max(x)], [model_b0_3, max(x)*model_b1_3], 'g-', linewidth=2, alpha=0.02)\n",
    "#plt.show()\n",
    "grid.fig"
   ]
  },
  {
   "cell_type": "markdown",
   "metadata": {
    "collapsed": true
   },
   "source": [
    "The cloud of green in the plot above represents a multitude of regression lines generated by our model.  Notice that the lines vary by both their $y$-intercepts ($\\beta_0$) and their slopes ($\\beta_1$)."
   ]
  },
  {
   "cell_type": "markdown",
   "metadata": {},
   "source": [
    "## Part IV.  Conclusion"
   ]
  },
  {
   "cell_type": "markdown",
   "metadata": {
    "collapsed": true
   },
   "source": [
    "We have now seen how Bayes's rule is applied to linear regression.  The rule is applied to each parameter of a linear regression model.  We looked at no more than 2 parameters, but the process of setting the joint prior, calculating the joint likelihood, finding their product, and dividing by a scaling factor is basically the same when we add more parameters.  Looking at discrete, range-restricted distributions for each parameter made the calculations simple enough that we could easily follow them, but then we also saw how to implement our simple model in Stan.  That will hopefully prime you to look further at Stan or other probabilistic programming languages as you work towards more complex models."
   ]
  },
  {
   "cell_type": "markdown",
   "metadata": {},
   "source": [
    "### *Editorial comments / potential improvements*"
   ]
  },
  {
   "cell_type": "markdown",
   "metadata": {},
   "source": [
    "- *the 3D plots for the likelihood and posterior are currently hard to see; a 3D contour or wire-frame plot will probably work better, but I haven't figured out how to implement these yet*\n",
    "- *I wanted to show the prior, likelihood, and posterior plots from left-to-right to match their arrangement in the data frame, but couldn't figure out how to do it.  It probably wouldn't work for the 3D plots, but it might be helpful for the 2D plots*\n",
    "- *I'm basically using a probability density function to calculate a probability mass function; I think the scaling means it doesn't matter, but maybe some rigorous statisticians would freak out and uncover some important assumption of why I can't do it; but it seems to get good results, and it makes sense, so I think it's fine*\n",
    "- *the Stan plot is too small; I can't figure out how to enlarge it*\n",
    "- *it would be nice to have another part between part 2 and part 3; it would involve coding up a simple sampling algorithm and using it to sample from the joint posterior distribution based on the linear regression model with 2 parameters; that would be something of a middle step of showing how to work with continuous distributions without jumping all the way to Stan*\n",
    "- *I've ignored several issues in an effort to focus the presentation:*\n",
    "    1) *how to select a flat (improper) prior for continuous distributions can be controversial; Stan's defaults are smartly chosen by those way smarter than I am, but I might currently be giving the impression that this choice is simple, easy, and no big deal*\n",
    "    2) *I've left the regression likelihood calculation as an unexplained black box; I was afraid that explaining it would bog down the discussion and move it too far from the Bayesian aspects of the model*\n",
    "    3) *likewise, I don't explain the closed-form calculation for linear regression (the 'predict_y' function; but again, I don't really want to do a tutorial on linear regression in general; I want to focus on the Bayesian aspect; one way to accommodate these issues without bogging it down too much would be to nod to them and provide links to discussions or tutorials/resources about them*"
   ]
  }
 ],
 "metadata": {
  "kernelspec": {
   "display_name": "Python 3",
   "language": "python",
   "name": "python3"
  },
  "language_info": {
   "codemirror_mode": {
    "name": "ipython",
    "version": 3
   },
   "file_extension": ".py",
   "mimetype": "text/x-python",
   "name": "python",
   "nbconvert_exporter": "python",
   "pygments_lexer": "ipython3",
   "version": "3.6.2"
  }
 },
 "nbformat": 4,
 "nbformat_minor": 2
}
